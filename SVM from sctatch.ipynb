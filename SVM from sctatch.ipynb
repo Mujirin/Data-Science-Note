{
 "cells": [
  {
   "cell_type": "code",
   "execution_count": 1,
   "id": "3700b72a",
   "metadata": {},
   "outputs": [],
   "source": [
    "# https://machinelearningmastery.com/method-of-lagrange-multipliers-the-theory-behind-support-vector-machines-part-3-implementing-an-svm-from-scratch-in-python/\n",
    "import numpy as np    \n",
    "# For optimization\n",
    "from scipy.optimize import Bounds, BFGS                     \n",
    "from scipy.optimize import LinearConstraint, minimize   \n",
    "# For plotting\n",
    "import matplotlib.pyplot as plt\n",
    "import seaborn as sns\n",
    "# For generating dataset\n",
    "import sklearn.datasets as dt\n",
    "import pandas as pd"
   ]
  },
  {
   "cell_type": "code",
   "execution_count": 2,
   "id": "853e64dd",
   "metadata": {},
   "outputs": [
    {
     "name": "stderr",
     "output_type": "stream",
     "text": [
      "/Users/thomas/opt/miniconda3/envs/scraping_env/lib/python3.6/site-packages/seaborn/_decorators.py:43: FutureWarning: Pass the following variables as keyword args: x, y. From version 0.12, the only valid positional argument will be `data`, and passing other arguments without an explicit keyword will result in an error or misinterpretation.\n",
      "  FutureWarning\n"
     ]
    },
    {
     "data": {
      "image/png": "[encoded data removed]",
      "text/plain": [
       "<Figure size 432x288 with 1 Axes>"
      ]
     },
     "metadata": {
      "needs_background": "light"
     },
     "output_type": "display_data"
    }
   ],
   "source": [
    "# 1. Data\n",
    "dat = np.array([[0, 3], [-1, 0], [1, 2], [2, 1], [3,3], [0, 0], [-1, -1], [-3, 1], [3, 1]])\n",
    "labels = np.array([1, 1, 1, 1, 1, -1, -1, -1, -1])\n",
    "ZERO = 1e-7\n",
    "\n",
    "def plot_x(x, t, alpha=[], C=0):\n",
    "    sns.scatterplot(dat[:,0], dat[:, 1], style=labels,\n",
    "    hue=labels, markers=['s', 'P'],\n",
    "    palette=['magenta', 'green'])\n",
    "    if len(alpha) > 0:\n",
    "        alpha_str = np.char.mod('%.1f', np.round(alpha, 1))\n",
    "        ind_sv = np.where(alpha > ZERO)[0]\n",
    "        for i in ind_sv:   \n",
    "            plt.gca().text(dat[i,0], dat[i, 1]-.25, alpha_str[i] )\n",
    "\n",
    "                  \n",
    "plot_x(dat, labels)"
   ]
  },
  {
   "cell_type": "code",
   "execution_count": 3,
   "id": "eee065e3",
   "metadata": {},
   "outputs": [],
   "source": [
    "# 2. Objective function"
   ]
  },
  {
   "cell_type": "markdown",
   "id": "edbe1cd9",
   "metadata": {},
   "source": [
    "SVM classifier memaksimalkan Lagrange dual yang diberikan oleh persamaan berikut:\n",
    "\n",
    "$$L_d = -\\frac{1}{2} \\sum_i \\sum_k \\alpha_i \\alpha_k t_i t_k (x_i)^T (x_k) + \\sum_i \\alpha_i\n",
    "$$"
   ]
  },
  {
   "cell_type": "code",
   "execution_count": 4,
   "id": "a30531b3",
   "metadata": {},
   "outputs": [],
   "source": [
    "# Objective function\n",
    "def lagrange_dual(alpha, x, t):\n",
    "    result = 0\n",
    "    ind_sv = np.where(alpha > ZERO)[0]\n",
    "    for i in ind_sv:\n",
    "        for k in ind_sv:\n",
    "            result = result + alpha[i]*alpha[k]*t[i]*t[k]*np.dot(x[i, :], x[k, :]) \n",
    "    result = 0.5*result - sum(alpha)     \n",
    "    return result"
   ]
  },
  {
   "cell_type": "code",
   "execution_count": 5,
   "id": "a6f361dc",
   "metadata": {},
   "outputs": [],
   "source": [
    "# 3. Pendefinisian konstrain linier"
   ]
  },
  {
   "cell_type": "markdown",
   "id": "5212cd92",
   "metadata": {},
   "source": [
    "Dengan konstrain\n",
    "\n",
    "$$\\begin{eqnarray}\n",
    "0 \\leq \\alpha_i \\leq C, & \\forall i\n",
    "\\end{eqnarray}$$\n",
    "\n",
    "\n",
    "$$\\begin{eqnarray}\n",
    "\\sum_i \\alpha_i t_i = 0&\n",
    "\\end{eqnarray}$$\n",
    "\n",
    "atau dapat ditulisakn menjadi\n",
    "$$\\alpha_0 t_0 + \\alpha_1 t_1 + \\ldots \\alpha_m t_m = 0$$\n",
    "\n",
    "atau dalam bentuk matrix\n",
    "$$\\begin{equation}\n",
    "0 =\n",
    "\\begin{bmatrix}\n",
    "t_0 & t_1 & \\ldots t_m\n",
    "\\end{bmatrix}\n",
    "\\begin{bmatrix}\n",
    "\\alpha_0\\\\ \\alpha_1 \\\\ \\vdots \\\\ \\alpha_m\n",
    "\\end{bmatrix}\n",
    "= 0\n",
    "\\end{equation}$$"
   ]
  },
  {
   "cell_type": "code",
   "execution_count": 6,
   "id": "cca891e6",
   "metadata": {},
   "outputs": [],
   "source": [
    "linear_constraint = LinearConstraint(labels, [0], [0])\n"
   ]
  },
  {
   "cell_type": "code",
   "execution_count": 7,
   "id": "804843ad",
   "metadata": {},
   "outputs": [
    {
     "name": "stdout",
     "output_type": "stream",
     "text": [
      "Bounds(array([0., 0., 0., 0., 0., 0., 0., 0., 0.]), array([10, 10, 10, 10, 10, 10, 10, 10, 10]))\n"
     ]
    }
   ],
   "source": [
    "# 4. Pendefinisian batas\n",
    "# 0 > alpha > C\n",
    "# Contoh C = 10\n",
    "bounds_alpha = Bounds(np.zeros(dat.shape[0]), np.full(dat.shape[0], 10))\n",
    "print(bounds_alpha)"
   ]
  },
  {
   "cell_type": "code",
   "execution_count": 8,
   "id": "b8e11f4c",
   "metadata": {},
   "outputs": [
    {
     "data": {
      "text/plain": [
       "array([2.35421893e-07, 9.99999994e+00, 3.26530741e+00, 9.99999976e+00,\n",
       "       9.62142649e-08, 7.59183767e+00, 1.19831429e-07, 5.67346972e+00,\n",
       "       9.99999992e+00])"
      ]
     },
     "execution_count": 8,
     "metadata": {},
     "output_type": "execute_result"
    }
   ],
   "source": [
    "# 5. Fungsi untuk mendapatkan Alpha\n",
    "def optimize_alpha(x, t, C):\n",
    "    m, n = x.shape\n",
    "    np.random.seed(1)\n",
    "    # Initialize alphas to random values\n",
    "    alpha_0 = np.random.rand(m)*C\n",
    "    # Define the constraint\n",
    "    linear_constraint = LinearConstraint(t, [0], [0])\n",
    "    # Define the bounds\n",
    "    bounds_alpha = Bounds(np.zeros(m), np.full(m, C))\n",
    "    # Find the optimal value of alpha\n",
    "    result = minimize(lagrange_dual, alpha_0, args = (x, t), method='trust-constr', \n",
    "                      hess=BFGS(), constraints=[linear_constraint],\n",
    "                      bounds=bounds_alpha)\n",
    "    # The optimized value of alpha lies in result.x\n",
    "    alpha = result.x\n",
    "    return alpha\n",
    "\n",
    "\n",
    "alpha = optimize_alpha(dat, labels, 10)\n",
    "alpha"
   ]
  },
  {
   "cell_type": "code",
   "execution_count": 9,
   "id": "c0d4d667",
   "metadata": {},
   "outputs": [],
   "source": [
    "# 6. Penentuan Hyperplane"
   ]
  },
  {
   "cell_type": "markdown",
   "id": "6bdce258",
   "metadata": {},
   "source": [
    "Hyperplane diberikan oleh persamaan\n",
    "$$w^T x + w_0 = 0$$\n",
    "\n",
    "maka diperlukan \n",
    "$$w = \\sum_i \\alpha_i t_i x_i$$\n",
    "dan \n",
    "$$w_0 = t_s – w^T x_s$$"
   ]
  },
  {
   "cell_type": "code",
   "execution_count": 10,
   "id": "e5cd8ab8",
   "metadata": {},
   "outputs": [
    {
     "data": {
      "text/plain": [
       "array([0.2857168 , 0.85714604])"
      ]
     },
     "execution_count": 10,
     "metadata": {},
     "output_type": "execute_result"
    }
   ],
   "source": [
    "def get_w(alpha, t, x):\n",
    "    m = len(x)\n",
    "    # Get all support vectors\n",
    "    w = np.zeros(x.shape[1])\n",
    "    for i in range(m):\n",
    "        w = w + alpha[i]*t[i]*x[i, :]        \n",
    "    return w\n",
    "w = get_w(alpha, labels, dat)\n",
    "w"
   ]
  },
  {
   "cell_type": "code",
   "execution_count": 11,
   "id": "c4ca6d2a",
   "metadata": {},
   "outputs": [
    {
     "data": {
      "text/plain": [
       "-0.8095265757258557"
      ]
     },
     "execution_count": 11,
     "metadata": {},
     "output_type": "execute_result"
    }
   ],
   "source": [
    "\n",
    "def get_w0(alpha, t, x, w, C):\n",
    "    C_numeric = C-ZERO\n",
    "    # Indices of support vectors with alpha<C\n",
    "    ind_sv = np.where((alpha > ZERO)&(alpha < C_numeric))[0]\n",
    "    w0 = 0.0\n",
    "    for s in ind_sv:\n",
    "        w0 = w0 + t[s] - np.dot(x[s, :], w)\n",
    "    # Take the average    \n",
    "    w0 = w0 / len(ind_sv)\n",
    "    return w0\n",
    "w0 = get_w0(alpha, labels, dat, w, 10)\n",
    "w0"
   ]
  },
  {
   "cell_type": "code",
   "execution_count": 12,
   "id": "89644bf7",
   "metadata": {},
   "outputs": [],
   "source": [
    "#  Mengkelasifikasikan titik\n"
   ]
  },
  {
   "cell_type": "markdown",
   "id": "86bb6abb",
   "metadata": {},
   "source": [
    "$$\\text{label}_{x_{test}} = \\text{sign}(y(x_{test})) = \\text{sign}(w^T x_{test} + w_0)$$"
   ]
  },
  {
   "cell_type": "code",
   "execution_count": 13,
   "id": "15bcda40",
   "metadata": {},
   "outputs": [
    {
     "data": {
      "text/plain": [
       "array([ 1., -1.,  1.,  1.,  1., -1., -1., -1.,  1.])"
      ]
     },
     "execution_count": 13,
     "metadata": {},
     "output_type": "execute_result"
    }
   ],
   "source": [
    "def classify_points(x_test, w, w0):\n",
    "    # get y(x_test)\n",
    "    predicted_labels = np.sum(x_test*w, axis=1) + w0\n",
    "    predicted_labels = np.sign(predicted_labels)\n",
    "    # Assign a label arbitrarily a +1 if it is zero\n",
    "    predicted_labels[predicted_labels==0] = 1\n",
    "    return predicted_labels\n",
    "\n",
    "predictions = classify_points(dat, w, w0)\n",
    "predictions"
   ]
  },
  {
   "cell_type": "code",
   "execution_count": 14,
   "id": "a61ac800",
   "metadata": {},
   "outputs": [
    {
     "data": {
      "text/plain": [
       "22.22222222222222"
      ]
     },
     "execution_count": 14,
     "metadata": {},
     "output_type": "execute_result"
    }
   ],
   "source": [
    "\n",
    "def misclassification_rate(labels, predictions):\n",
    "    total = len(labels)\n",
    "    errors = sum(labels != predictions)\n",
    "    return errors/total*100\n",
    "\n",
    "error = misclassification_rate(labels, predictions)\n",
    "error"
   ]
  },
  {
   "cell_type": "code",
   "execution_count": 15,
   "id": "d61b3b71",
   "metadata": {},
   "outputs": [],
   "source": [
    "# Plot margin dan hyperplane\n",
    "def plot_hyperplane(w, w0):\n",
    "    x_coord = np.array(plt.gca().get_xlim())\n",
    "    y_coord = -w0/w[1] - w[0]/w[1] * x_coord\n",
    "    plt.plot(x_coord, y_coord, color='red')\n",
    "\n",
    "def plot_margin(w, w0):\n",
    "    x_coord = np.array(plt.gca().get_xlim())\n",
    "    ypos_coord = 1/w[1] - w0/w[1] - w[0]/w[1] * x_coord\n",
    "    plt.plot(x_coord, ypos_coord, '--', color='green') \n",
    "    yneg_coord = -1/w[1] - w0/w[1] - w[0]/w[1] * x_coord\n",
    "    plt.plot(x_coord, yneg_coord, '--', color='magenta')"
   ]
  },
  {
   "cell_type": "code",
   "execution_count": 16,
   "id": "9d05f3fe",
   "metadata": {},
   "outputs": [
    {
     "name": "stderr",
     "output_type": "stream",
     "text": [
      "/Users/thomas/opt/miniconda3/envs/scraping_env/lib/python3.6/site-packages/seaborn/_decorators.py:43: FutureWarning: Pass the following variables as keyword args: x, y. From version 0.12, the only valid positional argument will be `data`, and passing other arguments without an explicit keyword will result in an error or misinterpretation.\n",
      "  FutureWarning\n"
     ]
    },
    {
     "data": {
      "image/png": "[encoded data removed]",
      "text/plain": [
       "<Figure size 432x288 with 1 Axes>"
      ]
     },
     "metadata": {
      "needs_background": "light"
     },
     "output_type": "display_data"
    }
   ],
   "source": [
    "def display_SVM_result(x, t, C):\n",
    "    # Get the alphas\n",
    "    alpha = optimize_alpha(x, t, C)   \n",
    "    # Get the weights\n",
    "    w = get_w(alpha, t, x)\n",
    "    w0 = get_w0(alpha, t, x, w, C)\n",
    "    plot_x(x, t, alpha, C)\n",
    "    xlim = plt.gca().get_xlim()\n",
    "    ylim = plt.gca().get_ylim()\n",
    "    plot_hyperplane(w, w0)\n",
    "    plot_margin(w, w0)\n",
    "    plt.xlim(xlim)\n",
    "    plt.ylim(ylim)\n",
    "    # Get the misclassification error and display it as title\n",
    "    predictions = classify_points(x, w, w0)\n",
    "    err = misclassification_rate(t, predictions)\n",
    "    title = 'C = ' + str(C) + ',  Errors: ' + '{:.1f}'.format(err) + '%'\n",
    "    title = title + ',  total SV = ' + str(len(alpha[alpha > ZERO]))\n",
    "    plt.title(title)\n",
    "    \n",
    "display_SVM_result(dat, labels, 100)    \n",
    "plt.show()"
   ]
  },
  {
   "cell_type": "code",
   "execution_count": 17,
   "id": "5ede9b55",
   "metadata": {},
   "outputs": [
    {
     "name": "stderr",
     "output_type": "stream",
     "text": [
      "/Users/thomas/opt/miniconda3/envs/scraping_env/lib/python3.6/site-packages/seaborn/_decorators.py:43: FutureWarning: Pass the following variables as keyword args: x, y. From version 0.12, the only valid positional argument will be `data`, and passing other arguments without an explicit keyword will result in an error or misinterpretation.\n",
      "  FutureWarning\n"
     ]
    },
    {
     "data": {
      "image/png": "[encoded data removed]",
      "text/plain": [
       "<Figure size 432x288 with 1 Axes>"
      ]
     },
     "metadata": {
      "needs_background": "light"
     },
     "output_type": "display_data"
    }
   ],
   "source": [
    "# Efek dari C\n",
    "dat, labels = dt.make_blobs(n_samples=[20,20],\n",
    "                           cluster_std=1,\n",
    "                           random_state=0)\n",
    "labels[labels==0] = -1\n",
    "plot_x(dat, labels)"
   ]
  },
  {
   "cell_type": "code",
   "execution_count": 18,
   "id": "8e889062",
   "metadata": {},
   "outputs": [
    {
     "name": "stderr",
     "output_type": "stream",
     "text": [
      "/Users/thomas/opt/miniconda3/envs/scraping_env/lib/python3.6/site-packages/seaborn/_decorators.py:43: FutureWarning: Pass the following variables as keyword args: x, y. From version 0.12, the only valid positional argument will be `data`, and passing other arguments without an explicit keyword will result in an error or misinterpretation.\n",
      "  FutureWarning\n",
      "/Users/thomas/opt/miniconda3/envs/scraping_env/lib/python3.6/site-packages/seaborn/_decorators.py:43: FutureWarning: Pass the following variables as keyword args: x, y. From version 0.12, the only valid positional argument will be `data`, and passing other arguments without an explicit keyword will result in an error or misinterpretation.\n",
      "  FutureWarning\n",
      "/Users/thomas/opt/miniconda3/envs/scraping_env/lib/python3.6/site-packages/scipy/optimize/_hessian_update_strategy.py:186: UserWarning: delta_grad == 0.0. Check if the approximated function is linear. If the function is linear better results can be obtained by defining the Hessian as zero instead of using quasi-Newton approximations.\n",
      "  'approximations.', UserWarning)\n",
      "/Users/thomas/opt/miniconda3/envs/scraping_env/lib/python3.6/site-packages/seaborn/_decorators.py:43: FutureWarning: Pass the following variables as keyword args: x, y. From version 0.12, the only valid positional argument will be `data`, and passing other arguments without an explicit keyword will result in an error or misinterpretation.\n",
      "  FutureWarning\n"
     ]
    },
    {
     "data": {
      "image/png": "[encoded data removed]",
      "text/plain": [
       "<Figure size 576x1800 with 3 Axes>"
      ]
     },
     "metadata": {
      "needs_background": "light"
     },
     "output_type": "display_data"
    }
   ],
   "source": [
    "fig = plt.figure(figsize=(8,25))\n",
    "\n",
    "i=0\n",
    "C_array = [1e-2, 100, 1e5]\n",
    "\n",
    "for C in C_array:\n",
    "    fig.add_subplot(311+i)    \n",
    "    display_SVM_result(dat, labels, C)  \n",
    "    i = i + 1"
   ]
  },
  {
   "cell_type": "code",
   "execution_count": 19,
   "id": "e8206ff8",
   "metadata": {},
   "outputs": [],
   "source": [
    "# Meningkatkan C akan menurunkan margin, mengecilkan \n",
    "# salah klasifikasi\n",
    "# Source: https://machinelearningmastery.com/method-of-lagrange-multipliers-the-theory-behind-support-vector-machines-part-3-implementing-an-svm-from-scratch-in-python/\n"
   ]
  },
  {
   "cell_type": "code",
   "execution_count": null,
   "id": "0b323c28",
   "metadata": {},
   "outputs": [],
   "source": []
  },
  {
   "cell_type": "code",
   "execution_count": null,
   "id": "7043f76f",
   "metadata": {},
   "outputs": [],
   "source": []
  },
  {
   "cell_type": "code",
   "execution_count": null,
   "id": "92039ab7",
   "metadata": {},
   "outputs": [],
   "source": []
  },
  {
   "cell_type": "code",
   "execution_count": null,
   "id": "fad94590",
   "metadata": {},
   "outputs": [],
   "source": []
  },
  {
   "cell_type": "markdown",
   "id": "9501cc05",
   "metadata": {},
   "source": [
    "# By package\n"
   ]
  },
  {
   "cell_type": "code",
   "execution_count": 20,
   "id": "f9a36659",
   "metadata": {},
   "outputs": [],
   "source": [
    "# Supervised learning - Regressi\n",
    "#                     - Classifikasi\n",
    "\n",
    "# Kapan pakai Regresi?\n",
    "#     - label/traget memiliki nilai yang continyu\n",
    "#     Panjang meja\n",
    "#     1.1 m\n",
    "#     1.15 m\n",
    "#     1.0005 m\n",
    "#     [1 m, 2 m]\n",
    "\n",
    "# Kapan pakai classifikasi?\n",
    "#     - label/traget memiliki nilai yang diskrit (grup) bisa dilabeli dengan\n",
    "#     bilangan integer\n",
    "#     versicolor -> 0\n",
    "#     virginica  -> 1\n",
    "#     setosa     -> 2\n",
    "\n",
    "# -------------------------------------------------------\n",
    "# Umur_siswa  | jumlah_pensil_yang_pernah_dibeli (target)\n",
    "# -------------------------------------------------------\n",
    "# 1.1           11\n",
    "# 5.2           560\n",
    "# ...           ...\n",
    "# -------------------------------------------------------\n",
    "\n",
    "# -------------------------------------------------------\n",
    "# ukuran_jeruk  | asal_jeruk_kota (target ada 100an kota)\n",
    "# -------------------------------------------------------\n",
    "#     1.1           jakarta\n",
    "#     5.2           bandung\n",
    "# ...           ...\n",
    "# -------------------------------------------------------"
   ]
  },
  {
   "cell_type": "code",
   "execution_count": 21,
   "id": "2f294d30",
   "metadata": {},
   "outputs": [],
   "source": [
    "# https://www.kaggle.com/rakeshrau/social-network-ads\n",
    "import pandas as pd\n",
    "import numpy as np\n",
    "import matplotlib.pyplot as plt\n"
   ]
  },
  {
   "cell_type": "code",
   "execution_count": 22,
   "id": "db3f9523",
   "metadata": {},
   "outputs": [
    {
     "data": {
      "text/html": [
       "<div>\n",
       "<style scoped>\n",
       "    .dataframe tbody tr th:only-of-type {\n",
       "        vertical-align: middle;\n",
       "    }\n",
       "\n",
       "    .dataframe tbody tr th {\n",
       "        vertical-align: top;\n",
       "    }\n",
       "\n",
       "    .dataframe thead th {\n",
       "        text-align: right;\n",
       "    }\n",
       "</style>\n",
       "<table border=\"1\" class=\"dataframe\">\n",
       "  <thead>\n",
       "    <tr style=\"text-align: right;\">\n",
       "      <th></th>\n",
       "      <th>Age</th>\n",
       "      <th>EstimatedSalary</th>\n",
       "      <th>Purchased</th>\n",
       "    </tr>\n",
       "  </thead>\n",
       "  <tbody>\n",
       "    <tr>\n",
       "      <th>0</th>\n",
       "      <td>19</td>\n",
       "      <td>19000</td>\n",
       "      <td>0</td>\n",
       "    </tr>\n",
       "    <tr>\n",
       "      <th>1</th>\n",
       "      <td>35</td>\n",
       "      <td>20000</td>\n",
       "      <td>0</td>\n",
       "    </tr>\n",
       "    <tr>\n",
       "      <th>2</th>\n",
       "      <td>26</td>\n",
       "      <td>43000</td>\n",
       "      <td>0</td>\n",
       "    </tr>\n",
       "    <tr>\n",
       "      <th>3</th>\n",
       "      <td>27</td>\n",
       "      <td>57000</td>\n",
       "      <td>0</td>\n",
       "    </tr>\n",
       "    <tr>\n",
       "      <th>4</th>\n",
       "      <td>19</td>\n",
       "      <td>76000</td>\n",
       "      <td>0</td>\n",
       "    </tr>\n",
       "  </tbody>\n",
       "</table>\n",
       "</div>"
      ],
      "text/plain": [
       "   Age  EstimatedSalary  Purchased\n",
       "0   19            19000          0\n",
       "1   35            20000          0\n",
       "2   26            43000          0\n",
       "3   27            57000          0\n",
       "4   19            76000          0"
      ]
     },
     "execution_count": 22,
     "metadata": {},
     "output_type": "execute_result"
    }
   ],
   "source": [
    "df = pd.read_csv('Social_Network_Ads.csv')\n",
    "df = df[['Age', 'EstimatedSalary', 'Purchased']]\n",
    "df.head()"
   ]
  },
  {
   "cell_type": "code",
   "execution_count": 23,
   "id": "96c7a8a5",
   "metadata": {},
   "outputs": [
    {
     "data": {
      "text/plain": [
       "[0, 1]"
      ]
     },
     "execution_count": 23,
     "metadata": {},
     "output_type": "execute_result"
    }
   ],
   "source": [
    "# Target --> Purchased\n",
    "list(set(list(df['Purchased'])))"
   ]
  },
  {
   "cell_type": "code",
   "execution_count": 24,
   "id": "e0f3e4bb",
   "metadata": {},
   "outputs": [
    {
     "data": {
      "text/html": [
       "<div>\n",
       "<style scoped>\n",
       "    .dataframe tbody tr th:only-of-type {\n",
       "        vertical-align: middle;\n",
       "    }\n",
       "\n",
       "    .dataframe tbody tr th {\n",
       "        vertical-align: top;\n",
       "    }\n",
       "\n",
       "    .dataframe thead th {\n",
       "        text-align: right;\n",
       "    }\n",
       "</style>\n",
       "<table border=\"1\" class=\"dataframe\">\n",
       "  <thead>\n",
       "    <tr style=\"text-align: right;\">\n",
       "      <th></th>\n",
       "      <th>Age</th>\n",
       "      <th>EstimatedSalary</th>\n",
       "      <th>Purchased</th>\n",
       "    </tr>\n",
       "  </thead>\n",
       "  <tbody>\n",
       "    <tr>\n",
       "      <th>395</th>\n",
       "      <td>46</td>\n",
       "      <td>41000</td>\n",
       "      <td>1</td>\n",
       "    </tr>\n",
       "    <tr>\n",
       "      <th>396</th>\n",
       "      <td>51</td>\n",
       "      <td>23000</td>\n",
       "      <td>1</td>\n",
       "    </tr>\n",
       "    <tr>\n",
       "      <th>397</th>\n",
       "      <td>50</td>\n",
       "      <td>20000</td>\n",
       "      <td>1</td>\n",
       "    </tr>\n",
       "    <tr>\n",
       "      <th>398</th>\n",
       "      <td>36</td>\n",
       "      <td>33000</td>\n",
       "      <td>0</td>\n",
       "    </tr>\n",
       "    <tr>\n",
       "      <th>399</th>\n",
       "      <td>49</td>\n",
       "      <td>36000</td>\n",
       "      <td>1</td>\n",
       "    </tr>\n",
       "  </tbody>\n",
       "</table>\n",
       "</div>"
      ],
      "text/plain": [
       "     Age  EstimatedSalary  Purchased\n",
       "395   46            41000          1\n",
       "396   51            23000          1\n",
       "397   50            20000          1\n",
       "398   36            33000          0\n",
       "399   49            36000          1"
      ]
     },
     "execution_count": 24,
     "metadata": {},
     "output_type": "execute_result"
    }
   ],
   "source": [
    "df.tail()"
   ]
  },
  {
   "cell_type": "code",
   "execution_count": 25,
   "id": "48902851",
   "metadata": {},
   "outputs": [],
   "source": [
    "# parameter\n",
    "feature = ['Age', 'EstimatedSalary']\n",
    "\n",
    "# label\n",
    "target = ['Purchased']"
   ]
  },
  {
   "cell_type": "code",
   "execution_count": 26,
   "id": "45eff6f4",
   "metadata": {},
   "outputs": [],
   "source": [
    "# gambar ---> gambar apa?\n",
    "# 255*255*3  -> tumor/bukan\n",
    "# [[1,2,3,2], [2,,4,3,]] --> 65025\n",
    "\n",
    "# gambar --> vektorisasi --> ML\n",
    "\n",
    "# Feature generator/Feature enginering --> feature_tools python\n"
   ]
  },
  {
   "cell_type": "code",
   "execution_count": 27,
   "id": "9eab054f",
   "metadata": {},
   "outputs": [
    {
     "data": {
      "text/plain": [
       "(320, 80, 400)"
      ]
     },
     "execution_count": 27,
     "metadata": {},
     "output_type": "execute_result"
    }
   ],
   "source": [
    "from sklearn.model_selection import train_test_split\n",
    "\n",
    "df_train, df_test = train_test_split(df, test_size=0.2)\n",
    "len(df_train), len(df_test), len(df)"
   ]
  },
  {
   "cell_type": "code",
   "execution_count": 28,
   "id": "5466bb20",
   "metadata": {},
   "outputs": [
    {
     "data": {
      "text/plain": [
       "StandardScaler()"
      ]
     },
     "execution_count": 28,
     "metadata": {},
     "output_type": "execute_result"
    }
   ],
   "source": [
    "from sklearn.preprocessing import StandardScaler\n",
    "\n",
    "sc = StandardScaler()\n",
    "\n",
    "scaled_feature = [x + '_scalled' for x in feature]\n",
    "sc.fit(df_train[feature])\n",
    "\n"
   ]
  },
  {
   "cell_type": "code",
   "execution_count": 29,
   "id": "882dba7b",
   "metadata": {},
   "outputs": [
    {
     "name": "stderr",
     "output_type": "stream",
     "text": [
      "/Users/thomas/opt/miniconda3/envs/scraping_env/lib/python3.6/site-packages/pandas/core/indexing.py:659: SettingWithCopyWarning: \n",
      "A value is trying to be set on a copy of a slice from a DataFrame.\n",
      "Try using .loc[row_indexer,col_indexer] = value instead\n",
      "\n",
      "See the caveats in the documentation: https://pandas.pydata.org/pandas-docs/stable/user_guide/indexing.html#returning-a-view-versus-a-copy\n",
      "  self.obj[k] = np.nan\n",
      "/Users/thomas/opt/miniconda3/envs/scraping_env/lib/python3.6/site-packages/ipykernel_launcher.py:1: SettingWithCopyWarning: \n",
      "A value is trying to be set on a copy of a slice from a DataFrame.\n",
      "Try using .loc[row_indexer,col_indexer] = value instead\n",
      "\n",
      "See the caveats in the documentation: https://pandas.pydata.org/pandas-docs/stable/user_guide/indexing.html#returning-a-view-versus-a-copy\n",
      "  \"\"\"Entry point for launching an IPython kernel.\n",
      "/Users/thomas/opt/miniconda3/envs/scraping_env/lib/python3.6/site-packages/pandas/core/indexing.py:1736: SettingWithCopyWarning: \n",
      "A value is trying to be set on a copy of a slice from a DataFrame.\n",
      "Try using .loc[row_indexer,col_indexer] = value instead\n",
      "\n",
      "See the caveats in the documentation: https://pandas.pydata.org/pandas-docs/stable/user_guide/indexing.html#returning-a-view-versus-a-copy\n",
      "  isetter(loc, value[:, i].tolist())\n",
      "/Users/thomas/opt/miniconda3/envs/scraping_env/lib/python3.6/site-packages/pandas/core/indexing.py:659: SettingWithCopyWarning: \n",
      "A value is trying to be set on a copy of a slice from a DataFrame.\n",
      "Try using .loc[row_indexer,col_indexer] = value instead\n",
      "\n",
      "See the caveats in the documentation: https://pandas.pydata.org/pandas-docs/stable/user_guide/indexing.html#returning-a-view-versus-a-copy\n",
      "  self.obj[k] = np.nan\n",
      "/Users/thomas/opt/miniconda3/envs/scraping_env/lib/python3.6/site-packages/ipykernel_launcher.py:2: SettingWithCopyWarning: \n",
      "A value is trying to be set on a copy of a slice from a DataFrame.\n",
      "Try using .loc[row_indexer,col_indexer] = value instead\n",
      "\n",
      "See the caveats in the documentation: https://pandas.pydata.org/pandas-docs/stable/user_guide/indexing.html#returning-a-view-versus-a-copy\n",
      "  \n",
      "/Users/thomas/opt/miniconda3/envs/scraping_env/lib/python3.6/site-packages/pandas/core/indexing.py:1736: SettingWithCopyWarning: \n",
      "A value is trying to be set on a copy of a slice from a DataFrame.\n",
      "Try using .loc[row_indexer,col_indexer] = value instead\n",
      "\n",
      "See the caveats in the documentation: https://pandas.pydata.org/pandas-docs/stable/user_guide/indexing.html#returning-a-view-versus-a-copy\n",
      "  isetter(loc, value[:, i].tolist())\n"
     ]
    },
    {
     "data": {
      "text/html": [
       "<div>\n",
       "<style scoped>\n",
       "    .dataframe tbody tr th:only-of-type {\n",
       "        vertical-align: middle;\n",
       "    }\n",
       "\n",
       "    .dataframe tbody tr th {\n",
       "        vertical-align: top;\n",
       "    }\n",
       "\n",
       "    .dataframe thead th {\n",
       "        text-align: right;\n",
       "    }\n",
       "</style>\n",
       "<table border=\"1\" class=\"dataframe\">\n",
       "  <thead>\n",
       "    <tr style=\"text-align: right;\">\n",
       "      <th></th>\n",
       "      <th>Age</th>\n",
       "      <th>EstimatedSalary</th>\n",
       "      <th>Purchased</th>\n",
       "      <th>Age_scalled</th>\n",
       "      <th>EstimatedSalary_scalled</th>\n",
       "    </tr>\n",
       "  </thead>\n",
       "  <tbody>\n",
       "    <tr>\n",
       "      <th>213</th>\n",
       "      <td>35</td>\n",
       "      <td>58000</td>\n",
       "      <td>0</td>\n",
       "      <td>-0.276253</td>\n",
       "      <td>-0.297973</td>\n",
       "    </tr>\n",
       "    <tr>\n",
       "      <th>224</th>\n",
       "      <td>35</td>\n",
       "      <td>60000</td>\n",
       "      <td>0</td>\n",
       "      <td>-0.276253</td>\n",
       "      <td>-0.238360</td>\n",
       "    </tr>\n",
       "    <tr>\n",
       "      <th>319</th>\n",
       "      <td>36</td>\n",
       "      <td>60000</td>\n",
       "      <td>0</td>\n",
       "      <td>-0.179745</td>\n",
       "      <td>-0.238360</td>\n",
       "    </tr>\n",
       "    <tr>\n",
       "      <th>233</th>\n",
       "      <td>49</td>\n",
       "      <td>86000</td>\n",
       "      <td>1</td>\n",
       "      <td>1.074853</td>\n",
       "      <td>0.536612</td>\n",
       "    </tr>\n",
       "    <tr>\n",
       "      <th>67</th>\n",
       "      <td>23</td>\n",
       "      <td>82000</td>\n",
       "      <td>0</td>\n",
       "      <td>-1.434344</td>\n",
       "      <td>0.417385</td>\n",
       "    </tr>\n",
       "  </tbody>\n",
       "</table>\n",
       "</div>"
      ],
      "text/plain": [
       "     Age  EstimatedSalary  Purchased  Age_scalled  EstimatedSalary_scalled\n",
       "213   35            58000          0    -0.276253                -0.297973\n",
       "224   35            60000          0    -0.276253                -0.238360\n",
       "319   36            60000          0    -0.179745                -0.238360\n",
       "233   49            86000          1     1.074853                 0.536612\n",
       "67    23            82000          0    -1.434344                 0.417385"
      ]
     },
     "execution_count": 29,
     "metadata": {},
     "output_type": "execute_result"
    }
   ],
   "source": [
    "df_train[scaled_feature] = sc.transform(df_train[feature])\n",
    "df_test[scaled_feature] = sc.transform(df_test[feature])\n",
    "df_test.head()"
   ]
  },
  {
   "cell_type": "code",
   "execution_count": 30,
   "id": "71fec3cd",
   "metadata": {},
   "outputs": [
    {
     "name": "stdout",
     "output_type": "stream",
     "text": [
      "-1.916881551723658 2.1364362668990555\n",
      "-1.579655709827792 2.4442328841082075\n"
     ]
    }
   ],
   "source": [
    "# Profile data setelah di scalled: min max\n",
    "\n",
    "print(min(df_test['Age_scalled']), max(df_test['Age_scalled']))\n",
    "print(min(df_test['EstimatedSalary_scalled']), max(df_test['EstimatedSalary_scalled']))"
   ]
  },
  {
   "cell_type": "code",
   "execution_count": 31,
   "id": "1fd45e13",
   "metadata": {},
   "outputs": [
    {
     "name": "stdout",
     "output_type": "stream",
     "text": [
      "18 60\n",
      "15000 150000\n"
     ]
    }
   ],
   "source": [
    "# Profile data: min max\n",
    "print(min(df_test['Age']), max(df_test['Age']))\n",
    "print(min(df_test['EstimatedSalary']), max(df_test['EstimatedSalary']))\n"
   ]
  },
  {
   "cell_type": "code",
   "execution_count": 32,
   "id": "6161fb54",
   "metadata": {},
   "outputs": [],
   "source": [
    "from sklearn.svm import SVC\n",
    "\n",
    "classifier = SVC(kernel='rbf', random_state=0)\n"
   ]
  },
  {
   "cell_type": "code",
   "execution_count": 33,
   "id": "4ede61c5",
   "metadata": {},
   "outputs": [
    {
     "name": "stderr",
     "output_type": "stream",
     "text": [
      "/Users/thomas/opt/miniconda3/envs/scraping_env/lib/python3.6/site-packages/sklearn/utils/validation.py:72: DataConversionWarning: A column-vector y was passed when a 1d array was expected. Please change the shape of y to (n_samples, ), for example using ravel().\n",
      "  return f(**kwargs)\n"
     ]
    },
    {
     "data": {
      "text/plain": [
       "SVC(random_state=0)"
      ]
     },
     "execution_count": 33,
     "metadata": {},
     "output_type": "execute_result"
    }
   ],
   "source": [
    "classifier.fit(df_train[scaled_feature], df_train[target])\n"
   ]
  },
  {
   "cell_type": "code",
   "execution_count": 34,
   "id": "b973f134",
   "metadata": {},
   "outputs": [
    {
     "name": "stderr",
     "output_type": "stream",
     "text": [
      "/Users/thomas/opt/miniconda3/envs/scraping_env/lib/python3.6/site-packages/sklearn/utils/validation.py:72: DataConversionWarning: A column-vector y was passed when a 1d array was expected. Please change the shape of y to (n_samples, ), for example using ravel().\n",
      "  return f(**kwargs)\n"
     ]
    },
    {
     "data": {
      "text/plain": [
       "SVC(random_state=0)"
      ]
     },
     "execution_count": 34,
     "metadata": {},
     "output_type": "execute_result"
    }
   ],
   "source": [
    "classifier2 = SVC(kernel='rbf', random_state=0)\n",
    "classifier2.fit(df_train[feature], df_train[target])"
   ]
  },
  {
   "cell_type": "code",
   "execution_count": 35,
   "id": "72d2b1cc",
   "metadata": {},
   "outputs": [
    {
     "name": "stderr",
     "output_type": "stream",
     "text": [
      "/Users/thomas/opt/miniconda3/envs/scraping_env/lib/python3.6/site-packages/ipykernel_launcher.py:1: SettingWithCopyWarning: \n",
      "A value is trying to be set on a copy of a slice from a DataFrame.\n",
      "Try using .loc[row_indexer,col_indexer] = value instead\n",
      "\n",
      "See the caveats in the documentation: https://pandas.pydata.org/pandas-docs/stable/user_guide/indexing.html#returning-a-view-versus-a-copy\n",
      "  \"\"\"Entry point for launching an IPython kernel.\n"
     ]
    },
    {
     "data": {
      "text/html": [
       "<div>\n",
       "<style scoped>\n",
       "    .dataframe tbody tr th:only-of-type {\n",
       "        vertical-align: middle;\n",
       "    }\n",
       "\n",
       "    .dataframe tbody tr th {\n",
       "        vertical-align: top;\n",
       "    }\n",
       "\n",
       "    .dataframe thead th {\n",
       "        text-align: right;\n",
       "    }\n",
       "</style>\n",
       "<table border=\"1\" class=\"dataframe\">\n",
       "  <thead>\n",
       "    <tr style=\"text-align: right;\">\n",
       "      <th></th>\n",
       "      <th>Age</th>\n",
       "      <th>EstimatedSalary</th>\n",
       "      <th>Purchased</th>\n",
       "      <th>Age_scalled</th>\n",
       "      <th>EstimatedSalary_scalled</th>\n",
       "      <th>prediction</th>\n",
       "    </tr>\n",
       "  </thead>\n",
       "  <tbody>\n",
       "    <tr>\n",
       "      <th>389</th>\n",
       "      <td>48</td>\n",
       "      <td>35000</td>\n",
       "      <td>1</td>\n",
       "      <td>0.978345</td>\n",
       "      <td>-0.983524</td>\n",
       "      <td>1</td>\n",
       "    </tr>\n",
       "    <tr>\n",
       "      <th>386</th>\n",
       "      <td>49</td>\n",
       "      <td>39000</td>\n",
       "      <td>1</td>\n",
       "      <td>1.074853</td>\n",
       "      <td>-0.864298</td>\n",
       "      <td>1</td>\n",
       "    </tr>\n",
       "    <tr>\n",
       "      <th>316</th>\n",
       "      <td>54</td>\n",
       "      <td>104000</td>\n",
       "      <td>1</td>\n",
       "      <td>1.557391</td>\n",
       "      <td>1.073130</td>\n",
       "      <td>1</td>\n",
       "    </tr>\n",
       "    <tr>\n",
       "      <th>232</th>\n",
       "      <td>40</td>\n",
       "      <td>107000</td>\n",
       "      <td>1</td>\n",
       "      <td>0.206285</td>\n",
       "      <td>1.162550</td>\n",
       "      <td>1</td>\n",
       "    </tr>\n",
       "    <tr>\n",
       "      <th>280</th>\n",
       "      <td>59</td>\n",
       "      <td>88000</td>\n",
       "      <td>1</td>\n",
       "      <td>2.039929</td>\n",
       "      <td>0.596225</td>\n",
       "      <td>1</td>\n",
       "    </tr>\n",
       "  </tbody>\n",
       "</table>\n",
       "</div>"
      ],
      "text/plain": [
       "     Age  EstimatedSalary  Purchased  Age_scalled  EstimatedSalary_scalled  \\\n",
       "389   48            35000          1     0.978345                -0.983524   \n",
       "386   49            39000          1     1.074853                -0.864298   \n",
       "316   54           104000          1     1.557391                 1.073130   \n",
       "232   40           107000          1     0.206285                 1.162550   \n",
       "280   59            88000          1     2.039929                 0.596225   \n",
       "\n",
       "     prediction  \n",
       "389           1  \n",
       "386           1  \n",
       "316           1  \n",
       "232           1  \n",
       "280           1  "
      ]
     },
     "execution_count": 35,
     "metadata": {},
     "output_type": "execute_result"
    }
   ],
   "source": [
    "df_train['prediction'] = classifier.predict(df_train[scaled_feature])\n",
    "df_train.head()"
   ]
  },
  {
   "cell_type": "code",
   "execution_count": 36,
   "id": "a5bd08c1",
   "metadata": {},
   "outputs": [
    {
     "name": "stderr",
     "output_type": "stream",
     "text": [
      "/Users/thomas/opt/miniconda3/envs/scraping_env/lib/python3.6/site-packages/ipykernel_launcher.py:1: SettingWithCopyWarning: \n",
      "A value is trying to be set on a copy of a slice from a DataFrame.\n",
      "Try using .loc[row_indexer,col_indexer] = value instead\n",
      "\n",
      "See the caveats in the documentation: https://pandas.pydata.org/pandas-docs/stable/user_guide/indexing.html#returning-a-view-versus-a-copy\n",
      "  \"\"\"Entry point for launching an IPython kernel.\n"
     ]
    },
    {
     "data": {
      "text/html": [
       "<div>\n",
       "<style scoped>\n",
       "    .dataframe tbody tr th:only-of-type {\n",
       "        vertical-align: middle;\n",
       "    }\n",
       "\n",
       "    .dataframe tbody tr th {\n",
       "        vertical-align: top;\n",
       "    }\n",
       "\n",
       "    .dataframe thead th {\n",
       "        text-align: right;\n",
       "    }\n",
       "</style>\n",
       "<table border=\"1\" class=\"dataframe\">\n",
       "  <thead>\n",
       "    <tr style=\"text-align: right;\">\n",
       "      <th></th>\n",
       "      <th>Age</th>\n",
       "      <th>EstimatedSalary</th>\n",
       "      <th>Purchased</th>\n",
       "      <th>Age_scalled</th>\n",
       "      <th>EstimatedSalary_scalled</th>\n",
       "      <th>prediction</th>\n",
       "      <th>prediction2</th>\n",
       "    </tr>\n",
       "  </thead>\n",
       "  <tbody>\n",
       "    <tr>\n",
       "      <th>389</th>\n",
       "      <td>48</td>\n",
       "      <td>35000</td>\n",
       "      <td>1</td>\n",
       "      <td>0.978345</td>\n",
       "      <td>-0.983524</td>\n",
       "      <td>1</td>\n",
       "      <td>0</td>\n",
       "    </tr>\n",
       "    <tr>\n",
       "      <th>386</th>\n",
       "      <td>49</td>\n",
       "      <td>39000</td>\n",
       "      <td>1</td>\n",
       "      <td>1.074853</td>\n",
       "      <td>-0.864298</td>\n",
       "      <td>1</td>\n",
       "      <td>0</td>\n",
       "    </tr>\n",
       "    <tr>\n",
       "      <th>316</th>\n",
       "      <td>54</td>\n",
       "      <td>104000</td>\n",
       "      <td>1</td>\n",
       "      <td>1.557391</td>\n",
       "      <td>1.073130</td>\n",
       "      <td>1</td>\n",
       "      <td>1</td>\n",
       "    </tr>\n",
       "    <tr>\n",
       "      <th>232</th>\n",
       "      <td>40</td>\n",
       "      <td>107000</td>\n",
       "      <td>1</td>\n",
       "      <td>0.206285</td>\n",
       "      <td>1.162550</td>\n",
       "      <td>1</td>\n",
       "      <td>1</td>\n",
       "    </tr>\n",
       "    <tr>\n",
       "      <th>280</th>\n",
       "      <td>59</td>\n",
       "      <td>88000</td>\n",
       "      <td>1</td>\n",
       "      <td>2.039929</td>\n",
       "      <td>0.596225</td>\n",
       "      <td>1</td>\n",
       "      <td>0</td>\n",
       "    </tr>\n",
       "  </tbody>\n",
       "</table>\n",
       "</div>"
      ],
      "text/plain": [
       "     Age  EstimatedSalary  Purchased  Age_scalled  EstimatedSalary_scalled  \\\n",
       "389   48            35000          1     0.978345                -0.983524   \n",
       "386   49            39000          1     1.074853                -0.864298   \n",
       "316   54           104000          1     1.557391                 1.073130   \n",
       "232   40           107000          1     0.206285                 1.162550   \n",
       "280   59            88000          1     2.039929                 0.596225   \n",
       "\n",
       "     prediction  prediction2  \n",
       "389           1            0  \n",
       "386           1            0  \n",
       "316           1            1  \n",
       "232           1            1  \n",
       "280           1            0  "
      ]
     },
     "execution_count": 36,
     "metadata": {},
     "output_type": "execute_result"
    }
   ],
   "source": [
    "df_train['prediction2'] = classifier2.predict(df_train[feature])\n",
    "df_train.head()"
   ]
  },
  {
   "cell_type": "code",
   "execution_count": 37,
   "id": "2ad54ca4",
   "metadata": {},
   "outputs": [],
   "source": [
    "# Kita buat 2 model\n",
    "# 1. classifier: pakai preprosesing (standard scaller) --> agar \n",
    "#         nilai-nilai di features serupa\n",
    "# 2. classifier2: tanpa preprocesing\n",
    "    \n",
    "# nanti kita cek akurasinya dari kedua model tersebut, mana yang bagus?"
   ]
  },
  {
   "cell_type": "code",
   "execution_count": 38,
   "id": "80a37816",
   "metadata": {},
   "outputs": [
    {
     "name": "stderr",
     "output_type": "stream",
     "text": [
      "/Users/thomas/opt/miniconda3/envs/scraping_env/lib/python3.6/site-packages/ipykernel_launcher.py:1: SettingWithCopyWarning: \n",
      "A value is trying to be set on a copy of a slice from a DataFrame.\n",
      "Try using .loc[row_indexer,col_indexer] = value instead\n",
      "\n",
      "See the caveats in the documentation: https://pandas.pydata.org/pandas-docs/stable/user_guide/indexing.html#returning-a-view-versus-a-copy\n",
      "  \"\"\"Entry point for launching an IPython kernel.\n",
      "/Users/thomas/opt/miniconda3/envs/scraping_env/lib/python3.6/site-packages/ipykernel_launcher.py:2: SettingWithCopyWarning: \n",
      "A value is trying to be set on a copy of a slice from a DataFrame.\n",
      "Try using .loc[row_indexer,col_indexer] = value instead\n",
      "\n",
      "See the caveats in the documentation: https://pandas.pydata.org/pandas-docs/stable/user_guide/indexing.html#returning-a-view-versus-a-copy\n",
      "  \n"
     ]
    },
    {
     "data": {
      "text/html": [
       "<div>\n",
       "<style scoped>\n",
       "    .dataframe tbody tr th:only-of-type {\n",
       "        vertical-align: middle;\n",
       "    }\n",
       "\n",
       "    .dataframe tbody tr th {\n",
       "        vertical-align: top;\n",
       "    }\n",
       "\n",
       "    .dataframe thead th {\n",
       "        text-align: right;\n",
       "    }\n",
       "</style>\n",
       "<table border=\"1\" class=\"dataframe\">\n",
       "  <thead>\n",
       "    <tr style=\"text-align: right;\">\n",
       "      <th></th>\n",
       "      <th>Age</th>\n",
       "      <th>EstimatedSalary</th>\n",
       "      <th>Purchased</th>\n",
       "      <th>Age_scalled</th>\n",
       "      <th>EstimatedSalary_scalled</th>\n",
       "      <th>prediction</th>\n",
       "      <th>prediction2</th>\n",
       "    </tr>\n",
       "  </thead>\n",
       "  <tbody>\n",
       "    <tr>\n",
       "      <th>132</th>\n",
       "      <td>30</td>\n",
       "      <td>87000</td>\n",
       "      <td>0</td>\n",
       "      <td>-0.758791</td>\n",
       "      <td>0.566418</td>\n",
       "      <td>0</td>\n",
       "      <td>0</td>\n",
       "    </tr>\n",
       "    <tr>\n",
       "      <th>299</th>\n",
       "      <td>46</td>\n",
       "      <td>117000</td>\n",
       "      <td>1</td>\n",
       "      <td>0.785330</td>\n",
       "      <td>1.460616</td>\n",
       "      <td>1</td>\n",
       "      <td>1</td>\n",
       "    </tr>\n",
       "    <tr>\n",
       "      <th>191</th>\n",
       "      <td>19</td>\n",
       "      <td>26000</td>\n",
       "      <td>0</td>\n",
       "      <td>-1.820374</td>\n",
       "      <td>-1.251783</td>\n",
       "      <td>0</td>\n",
       "      <td>0</td>\n",
       "    </tr>\n",
       "    <tr>\n",
       "      <th>377</th>\n",
       "      <td>42</td>\n",
       "      <td>53000</td>\n",
       "      <td>0</td>\n",
       "      <td>0.399300</td>\n",
       "      <td>-0.447006</td>\n",
       "      <td>0</td>\n",
       "      <td>0</td>\n",
       "    </tr>\n",
       "    <tr>\n",
       "      <th>6</th>\n",
       "      <td>27</td>\n",
       "      <td>84000</td>\n",
       "      <td>0</td>\n",
       "      <td>-1.048313</td>\n",
       "      <td>0.476998</td>\n",
       "      <td>0</td>\n",
       "      <td>0</td>\n",
       "    </tr>\n",
       "  </tbody>\n",
       "</table>\n",
       "</div>"
      ],
      "text/plain": [
       "     Age  EstimatedSalary  Purchased  Age_scalled  EstimatedSalary_scalled  \\\n",
       "132   30            87000          0    -0.758791                 0.566418   \n",
       "299   46           117000          1     0.785330                 1.460616   \n",
       "191   19            26000          0    -1.820374                -1.251783   \n",
       "377   42            53000          0     0.399300                -0.447006   \n",
       "6     27            84000          0    -1.048313                 0.476998   \n",
       "\n",
       "     prediction  prediction2  \n",
       "132           0            0  \n",
       "299           1            1  \n",
       "191           0            0  \n",
       "377           0            0  \n",
       "6             0            0  "
      ]
     },
     "execution_count": 38,
     "metadata": {},
     "output_type": "execute_result"
    }
   ],
   "source": [
    "df_test['prediction'] = classifier.predict(df_test[scaled_feature])\n",
    "df_test['prediction2'] = classifier2.predict(df_test[feature])\n",
    "df_test.tail()"
   ]
  },
  {
   "cell_type": "code",
   "execution_count": 39,
   "id": "39f0f217",
   "metadata": {},
   "outputs": [],
   "source": [
    "# Model 1: classifier\n",
    "#     Pipeline:\n",
    "#         data --> preprocesing(standard scaller) --> SVC\n",
    "# Model 2: classifier2\n",
    "#     Pipeline:\n",
    "#         data --> SVC\n",
    "    "
   ]
  },
  {
   "cell_type": "code",
   "execution_count": 40,
   "id": "cf850e25",
   "metadata": {},
   "outputs": [
    {
     "name": "stdout",
     "output_type": "stream",
     "text": [
      "Confusion matrix:\n",
      " [[46  7]\n",
      " [ 2 25]]\n",
      "Accuracy:\n",
      " 0.8875\n"
     ]
    }
   ],
   "source": [
    "# Berapa banyak yang terprediksi benar dan\n",
    "# berapa banyak yang terpredisi salah?\n",
    "# Confusion matrix\n",
    "\n",
    "# actual\\predicted P   N\n",
    "#    P             TP  FN \n",
    "#    N             FP  TN\n",
    "\n",
    "\n",
    "from sklearn.metrics import confusion_matrix, accuracy_score\n",
    "\n",
    "cm1 = confusion_matrix(df_test['Purchased'], df_test['prediction'])\n",
    "print(\"Confusion matrix:\\n\", cm1)\n",
    "acc1 = accuracy_score(df_test['Purchased'], df_test['prediction'])\n",
    "print('Accuracy:\\n', acc1)"
   ]
  },
  {
   "cell_type": "code",
   "execution_count": 41,
   "id": "84c9d676",
   "metadata": {},
   "outputs": [
    {
     "name": "stdout",
     "output_type": "stream",
     "text": [
      "Confusion matrix model 2:\n",
      " [[49  4]\n",
      " [12 15]]\n",
      "Accuracy model 2:\n",
      " 0.8\n"
     ]
    }
   ],
   "source": [
    "from sklearn.metrics import confusion_matrix, accuracy_score\n",
    "\n",
    "cm2 = confusion_matrix(df_test['Purchased'], df_test['prediction2'])\n",
    "print(\"Confusion matrix model 2:\\n\", cm2)\n",
    "acc2 = accuracy_score(df_test['Purchased'], df_test['prediction2'])\n",
    "print('Accuracy model 2:\\n', acc2)"
   ]
  },
  {
   "cell_type": "code",
   "execution_count": 42,
   "id": "a4aef10b",
   "metadata": {},
   "outputs": [],
   "source": [
    "from matplotlib.colors import ListedColormap\n",
    "\n"
   ]
  },
  {
   "cell_type": "code",
   "execution_count": 43,
   "id": "7536f71f",
   "metadata": {},
   "outputs": [
    {
     "data": {
      "text/plain": [
       "array([0, 0, 0, 1, 0, 0, 0, 1, 0, 0, 0, 1, 1, 1, 0, 1, 0, 0, 0, 0, 1, 0,\n",
       "       0, 0, 0, 1, 0, 1, 1, 1, 1, 0, 0, 1, 0, 0, 1, 0, 0, 0, 0, 0, 1, 1,\n",
       "       1, 0, 0, 0, 0, 0, 0, 1, 1, 0, 0, 0, 0, 0, 0, 1, 0, 0, 1, 0, 1, 0,\n",
       "       1, 0, 1, 0, 0, 0, 1, 0, 1, 0, 1, 0, 0, 0])"
      ]
     },
     "execution_count": 43,
     "metadata": {},
     "output_type": "execute_result"
    }
   ],
   "source": [
    "X_set, y_set = df_test[scaled_feature].values, df_test[target].values.T[0]\n",
    "y_set\n"
   ]
  },
  {
   "cell_type": "code",
   "execution_count": 44,
   "id": "6de7471f",
   "metadata": {},
   "outputs": [
    {
     "data": {
      "text/plain": [
       "array([0, 0, 0, 1, 0, 0, 0, 1, 0, 0, 0, 1, 1, 1, 0, 1, 0, 0, 0, 0, 1, 0,\n",
       "       0, 0, 0, 1, 0, 1, 1, 1, 1, 0, 0, 1, 0, 0, 1, 0, 0, 0, 0, 0, 1, 1,\n",
       "       1, 0, 0, 0, 0, 0, 0, 1, 1, 0, 0, 0, 0, 0, 0, 1, 0, 0, 1, 0, 1, 0,\n",
       "       1, 0, 1, 0, 0, 0, 1, 0, 1, 0, 1, 0, 0, 0])"
      ]
     },
     "execution_count": 44,
     "metadata": {},
     "output_type": "execute_result"
    }
   ],
   "source": [
    "df_test[target].values.T[0]"
   ]
  },
  {
   "cell_type": "code",
   "execution_count": 45,
   "id": "c074fde0",
   "metadata": {},
   "outputs": [
    {
     "name": "stderr",
     "output_type": "stream",
     "text": [
      "*c* argument looks like a single numeric RGB or RGBA sequence, which should be avoided as value-mapping will have precedence in case its length matches with *x* & *y*.  Please use the *color* keyword-argument or provide a 2-D array with a single row if you intend to specify the same RGB or RGBA value for all points.\n",
      "*c* argument looks like a single numeric RGB or RGBA sequence, which should be avoided as value-mapping will have precedence in case its length matches with *x* & *y*.  Please use the *color* keyword-argument or provide a 2-D array with a single row if you intend to specify the same RGB or RGBA value for all points.\n"
     ]
    },
    {
     "data": {
      "image/png": "[encoded data removed]",
      "text/plain": [
       "<Figure size 432x288 with 1 Axes>"
      ]
     },
     "metadata": {
      "needs_background": "light"
     },
     "output_type": "display_data"
    }
   ],
   "source": [
    "X1, X2 = np.meshgrid(\n",
    "    np.arange(\n",
    "        start=X_set[:, 0].min() - 1, \n",
    "        stop=X_set[:, 0].max() + 1, \n",
    "        step=0.01),\n",
    "    np.arange(\n",
    "        start=X_set[:, 0].min() - 1, \n",
    "        stop=X_set[:, 0].max() + 1, \n",
    "        step=0.01))\n",
    "\n",
    "plt.contourf(\n",
    "    X1, \n",
    "    X2, \n",
    "    classifier.predict(\n",
    "        np.array([X1.ravel(), \n",
    "                  X2.ravel()]).T).reshape(X1.shape),\n",
    "            alpha=0.75,\n",
    "            cmap=ListedColormap(\n",
    "                ('red', 'green')))\n",
    "\n",
    "plt.xlim(X1.min(), X1.max())\n",
    "plt.ylim(X2.min(), X2.max())\n",
    "\n",
    "for i, j in enumerate(np.unique(y_set)):\n",
    "    plt.scatter(\n",
    "        X_set[y_set == j, 0],\n",
    "        X_set[y_set == j, 1],\n",
    "        c=ListedColormap(('red', 'green'))(i),\n",
    "        label=j)\n",
    "\n",
    "plt.title('SVM model 1')\n",
    "plt.xlabel('Age')\n",
    "plt.ylabel('Estimated Salary')\n",
    "plt.legend()\n",
    "plt.show()\n",
    "    \n",
    "    \n",
    "    \n",
    "\n"
   ]
  },
  {
   "cell_type": "code",
   "execution_count": 46,
   "id": "1db2404b",
   "metadata": {},
   "outputs": [
    {
     "name": "stdout",
     "output_type": "stream",
     "text": [
      "Confusion matrix model 1:\n",
      " [[46  7]\n",
      " [ 2 25]]\n"
     ]
    }
   ],
   "source": [
    "print(\"Confusion matrix model 1:\\n\", cm1)\n"
   ]
  },
  {
   "cell_type": "code",
   "execution_count": 47,
   "id": "a1e04542",
   "metadata": {},
   "outputs": [],
   "source": [
    "# X_set, y_set = df_test[feature].values, df_test[target].values.T[0]\n",
    "\n",
    "# X1, X2 = np.meshgrid(\n",
    "#     np.arange(\n",
    "#         start=X_set[:, 0].min() - 1, \n",
    "#         stop=X_set[:, 0].max() + 1, \n",
    "#         step=0.01),\n",
    "#     np.arange(\n",
    "#         start=X_set[:, 0].min() - 1, \n",
    "#         stop=X_set[:, 0].max() + 1, \n",
    "#         step=0.01))\n",
    "\n",
    "# plt.contourf(\n",
    "#     X1, \n",
    "#     X2, \n",
    "#     classifier2.predict(\n",
    "#         np.array([X1.ravel(), \n",
    "#                   X2.ravel()]).T).reshape(X1.shape),\n",
    "#             alpha=0.75,\n",
    "#             cmap=ListedColormap(\n",
    "#                 ('red', 'green')))\n",
    "\n",
    "# plt.xlim(X1.min(), X1.max())\n",
    "# plt.ylim(X2.min(), X2.max())\n",
    "\n",
    "# for i, j in enumerate(np.unique(y_set)):\n",
    "#     plt.scatter(\n",
    "#         X_set[y_set == j, 0],\n",
    "#         X_set[y_set == j, 1],\n",
    "#         c=ListedColormap(('red', 'green'))(i),\n",
    "#         label=j)\n",
    "\n",
    "# plt.title('SVM model 1')\n",
    "# plt.xlabel('Age')\n",
    "# plt.ylabel('Estimated Salary')\n",
    "# plt.legend()\n",
    "# plt.show()\n",
    "    \n",
    "    \n",
    "    \n"
   ]
  },
  {
   "cell_type": "code",
   "execution_count": 48,
   "id": "59020b24",
   "metadata": {},
   "outputs": [
    {
     "name": "stdout",
     "output_type": "stream",
     "text": [
      "Confusion matrix model 2:\n",
      " [[49  4]\n",
      " [12 15]]\n"
     ]
    }
   ],
   "source": [
    "print(\"Confusion matrix model 2:\\n\", cm2)\n"
   ]
  },
  {
   "cell_type": "code",
   "execution_count": null,
   "id": "5df36573",
   "metadata": {},
   "outputs": [],
   "source": []
  },
  {
   "cell_type": "code",
   "execution_count": null,
   "id": "02585727",
   "metadata": {},
   "outputs": [],
   "source": []
  },
  {
   "cell_type": "code",
   "execution_count": null,
   "id": "6bf341b4",
   "metadata": {},
   "outputs": [],
   "source": []
  },
  {
   "cell_type": "code",
   "execution_count": null,
   "id": "21409a1f",
   "metadata": {},
   "outputs": [],
   "source": []
  },
  {
   "cell_type": "code",
   "execution_count": null,
   "id": "840ce3ba",
   "metadata": {},
   "outputs": [],
   "source": []
  },
  {
   "cell_type": "code",
   "execution_count": null,
   "id": "4d1e3b6d",
   "metadata": {},
   "outputs": [],
   "source": []
  },
  {
   "cell_type": "code",
   "execution_count": null,
   "id": "b835ecbe",
   "metadata": {},
   "outputs": [],
   "source": []
  },
  {
   "cell_type": "code",
   "execution_count": null,
   "id": "94c7d793",
   "metadata": {},
   "outputs": [],
   "source": []
  },
  {
   "cell_type": "code",
   "execution_count": null,
   "id": "e9f426fd",
   "metadata": {},
   "outputs": [],
   "source": []
  },
  {
   "cell_type": "markdown",
   "id": "49219dcf",
   "metadata": {},
   "source": [
    "# Iris data"
   ]
  },
  {
   "cell_type": "code",
   "execution_count": 49,
   "id": "fd809d60",
   "metadata": {},
   "outputs": [
    {
     "name": "stdout",
     "output_type": "stream",
     "text": [
      "target_name:  {'versicolor', 'setosa', 'virginica'}\n"
     ]
    },
    {
     "data": {
      "text/html": [
       "<div>\n",
       "<style scoped>\n",
       "    .dataframe tbody tr th:only-of-type {\n",
       "        vertical-align: middle;\n",
       "    }\n",
       "\n",
       "    .dataframe tbody tr th {\n",
       "        vertical-align: top;\n",
       "    }\n",
       "\n",
       "    .dataframe thead th {\n",
       "        text-align: right;\n",
       "    }\n",
       "</style>\n",
       "<table border=\"1\" class=\"dataframe\">\n",
       "  <thead>\n",
       "    <tr style=\"text-align: right;\">\n",
       "      <th></th>\n",
       "      <th>sepal length</th>\n",
       "      <th>sepal width</th>\n",
       "      <th>petal length</th>\n",
       "      <th>petal width</th>\n",
       "      <th>target</th>\n",
       "      <th>target_int</th>\n",
       "    </tr>\n",
       "  </thead>\n",
       "  <tbody>\n",
       "    <tr>\n",
       "      <th>145</th>\n",
       "      <td>6.7</td>\n",
       "      <td>3.0</td>\n",
       "      <td>5.2</td>\n",
       "      <td>2.3</td>\n",
       "      <td>virginica</td>\n",
       "      <td>2</td>\n",
       "    </tr>\n",
       "    <tr>\n",
       "      <th>146</th>\n",
       "      <td>6.3</td>\n",
       "      <td>2.5</td>\n",
       "      <td>5.0</td>\n",
       "      <td>1.9</td>\n",
       "      <td>virginica</td>\n",
       "      <td>2</td>\n",
       "    </tr>\n",
       "    <tr>\n",
       "      <th>147</th>\n",
       "      <td>6.5</td>\n",
       "      <td>3.0</td>\n",
       "      <td>5.2</td>\n",
       "      <td>2.0</td>\n",
       "      <td>virginica</td>\n",
       "      <td>2</td>\n",
       "    </tr>\n",
       "    <tr>\n",
       "      <th>148</th>\n",
       "      <td>6.2</td>\n",
       "      <td>3.4</td>\n",
       "      <td>5.4</td>\n",
       "      <td>2.3</td>\n",
       "      <td>virginica</td>\n",
       "      <td>2</td>\n",
       "    </tr>\n",
       "    <tr>\n",
       "      <th>149</th>\n",
       "      <td>5.9</td>\n",
       "      <td>3.0</td>\n",
       "      <td>5.1</td>\n",
       "      <td>1.8</td>\n",
       "      <td>virginica</td>\n",
       "      <td>2</td>\n",
       "    </tr>\n",
       "  </tbody>\n",
       "</table>\n",
       "</div>"
      ],
      "text/plain": [
       "     sepal length  sepal width  petal length  petal width     target  \\\n",
       "145           6.7          3.0           5.2          2.3  virginica   \n",
       "146           6.3          2.5           5.0          1.9  virginica   \n",
       "147           6.5          3.0           5.2          2.0  virginica   \n",
       "148           6.2          3.4           5.4          2.3  virginica   \n",
       "149           5.9          3.0           5.1          1.8  virginica   \n",
       "\n",
       "     target_int  \n",
       "145           2  \n",
       "146           2  \n",
       "147           2  \n",
       "148           2  \n",
       "149           2  "
      ]
     },
     "execution_count": 49,
     "metadata": {},
     "output_type": "execute_result"
    }
   ],
   "source": [
    "def get_df_with_string():\n",
    "    cols = ['sepal length', \n",
    "           'sepal width',\n",
    "           'petal length',\n",
    "           'petal width']\n",
    "    iris = dt.load_iris()\n",
    "    target_dict = {\n",
    "        0: 'setosa',\n",
    "        1: 'versicolor',\n",
    "        2: 'virginica'\n",
    "    }\n",
    "    target = iris.target\n",
    "    new_target = []\n",
    "    for t in target:\n",
    "        new_target.append(target_dict[t])\n",
    "    print(\"target_name: \", set(new_target))\n",
    "    df = pd.DataFrame(iris.data)\n",
    "    df.columns = cols\n",
    "    df['target'] = new_target\n",
    "    df['target_int'] = target\n",
    "    return df\n",
    "\n",
    "data = get_df_with_string()\n",
    "data.tail()"
   ]
  },
  {
   "cell_type": "code",
   "execution_count": 50,
   "id": "e9ff3e3a",
   "metadata": {},
   "outputs": [],
   "source": [
    "df = data[(data['target'] == 'virginica') |  (data['target'] == 'versicolor')]"
   ]
  },
  {
   "cell_type": "code",
   "execution_count": 53,
   "id": "c05a1038",
   "metadata": {},
   "outputs": [],
   "source": [
    "def get_x_t(df, cols):\n",
    "    feat1 = list(df[cols[0]])\n",
    "    feat2 = list(df[cols[1]])\n",
    "    dat = np.array([[feat1[i], feat2[i]] for i in range(len(feat1))])\n",
    "    t = np.array(list(df[cols[2]]))\n",
    "    return dat, t\n",
    "\n",
    "\n",
    "def plot_x(df, cols, alpha=[], C=0):\n",
    "    dat, t = get_x_t(df, cols)\n",
    "    sns.scatterplot(dat[:, 0], dat[:, 1], style=t,\n",
    "    hue=t, markers=['s', 'P'],\n",
    "    palette=['magenta', 'green'])\n",
    "    if len(alpha) > 0:\n",
    "        alpha_str = np.char.mod('%.1f', np.round(alpha, 1))\n",
    "        ind_sv = np.where(alpha > ZERO)[0]\n",
    "        for i in ind_sv:   \n",
    "            plt.gca().text(dat[i, 0], dat[i, 1]-.25, alpha_str[i] )\n",
    "\n"
   ]
  },
  {
   "cell_type": "code",
   "execution_count": 54,
   "id": "efeac20e",
   "metadata": {},
   "outputs": [
    {
     "name": "stderr",
     "output_type": "stream",
     "text": [
      "/Users/thomas/opt/miniconda3/envs/scraping_env/lib/python3.6/site-packages/seaborn/_decorators.py:43: FutureWarning: Pass the following variables as keyword args: x, y. From version 0.12, the only valid positional argument will be `data`, and passing other arguments without an explicit keyword will result in an error or misinterpretation.\n",
      "  FutureWarning\n"
     ]
    },
    {
     "data": {
      "image/png": "[encoded data removed]",
      "text/plain": [
       "<Figure size 432x288 with 1 Axes>"
      ]
     },
     "metadata": {
      "needs_background": "light"
     },
     "output_type": "display_data"
    }
   ],
   "source": [
    "feature = ['sepal length', 'petal length']\n",
    "target = ['target_int']\n",
    "cols = feature + target\n",
    "plot_x(df, cols)\n"
   ]
  },
  {
   "cell_type": "code",
   "execution_count": 55,
   "id": "c9c5e69a",
   "metadata": {},
   "outputs": [
    {
     "name": "stderr",
     "output_type": "stream",
     "text": [
      "/Users/thomas/opt/miniconda3/envs/scraping_env/lib/python3.6/site-packages/seaborn/_decorators.py:43: FutureWarning: Pass the following variables as keyword args: x, y. From version 0.12, the only valid positional argument will be `data`, and passing other arguments without an explicit keyword will result in an error or misinterpretation.\n",
      "  FutureWarning\n"
     ]
    },
    {
     "data": {
      "image/png": "[encoded data removed]",
      "text/plain": [
       "<Figure size 432x288 with 1 Axes>"
      ]
     },
     "metadata": {
      "needs_background": "light"
     },
     "output_type": "display_data"
    }
   ],
   "source": [
    "plot_x(df, ['petal length', 'petal width', 'target_int'])"
   ]
  },
  {
   "cell_type": "code",
   "execution_count": 56,
   "id": "3beef004",
   "metadata": {},
   "outputs": [
    {
     "data": {
      "text/plain": [
       "(80, 20, 100)"
      ]
     },
     "execution_count": 56,
     "metadata": {},
     "output_type": "execute_result"
    }
   ],
   "source": [
    "from sklearn.model_selection import train_test_split\n",
    "\n",
    "df_train, df_test = train_test_split(df, test_size=0.2)\n",
    "len(df_train), len(df_test), len(df)"
   ]
  },
  {
   "cell_type": "code",
   "execution_count": 57,
   "id": "5d79c05e",
   "metadata": {},
   "outputs": [
    {
     "data": {
      "text/plain": [
       "StandardScaler()"
      ]
     },
     "execution_count": 57,
     "metadata": {},
     "output_type": "execute_result"
    }
   ],
   "source": [
    "from sklearn.preprocessing import StandardScaler\n",
    "\n",
    "sc = StandardScaler()\n",
    "\n",
    "scaled_feature = [x + '_scalled' for x in feature]\n",
    "sc.fit(df_train[feature])"
   ]
  },
  {
   "cell_type": "code",
   "execution_count": 58,
   "id": "a92f44ba",
   "metadata": {},
   "outputs": [
    {
     "name": "stderr",
     "output_type": "stream",
     "text": [
      "/Users/thomas/opt/miniconda3/envs/scraping_env/lib/python3.6/site-packages/pandas/core/indexing.py:659: SettingWithCopyWarning: \n",
      "A value is trying to be set on a copy of a slice from a DataFrame.\n",
      "Try using .loc[row_indexer,col_indexer] = value instead\n",
      "\n",
      "See the caveats in the documentation: https://pandas.pydata.org/pandas-docs/stable/user_guide/indexing.html#returning-a-view-versus-a-copy\n",
      "  self.obj[k] = np.nan\n",
      "/Users/thomas/opt/miniconda3/envs/scraping_env/lib/python3.6/site-packages/ipykernel_launcher.py:1: SettingWithCopyWarning: \n",
      "A value is trying to be set on a copy of a slice from a DataFrame.\n",
      "Try using .loc[row_indexer,col_indexer] = value instead\n",
      "\n",
      "See the caveats in the documentation: https://pandas.pydata.org/pandas-docs/stable/user_guide/indexing.html#returning-a-view-versus-a-copy\n",
      "  \"\"\"Entry point for launching an IPython kernel.\n",
      "/Users/thomas/opt/miniconda3/envs/scraping_env/lib/python3.6/site-packages/pandas/core/indexing.py:1736: SettingWithCopyWarning: \n",
      "A value is trying to be set on a copy of a slice from a DataFrame.\n",
      "Try using .loc[row_indexer,col_indexer] = value instead\n",
      "\n",
      "See the caveats in the documentation: https://pandas.pydata.org/pandas-docs/stable/user_guide/indexing.html#returning-a-view-versus-a-copy\n",
      "  isetter(loc, value[:, i].tolist())\n",
      "/Users/thomas/opt/miniconda3/envs/scraping_env/lib/python3.6/site-packages/pandas/core/indexing.py:659: SettingWithCopyWarning: \n",
      "A value is trying to be set on a copy of a slice from a DataFrame.\n",
      "Try using .loc[row_indexer,col_indexer] = value instead\n",
      "\n",
      "See the caveats in the documentation: https://pandas.pydata.org/pandas-docs/stable/user_guide/indexing.html#returning-a-view-versus-a-copy\n",
      "  self.obj[k] = np.nan\n",
      "/Users/thomas/opt/miniconda3/envs/scraping_env/lib/python3.6/site-packages/ipykernel_launcher.py:2: SettingWithCopyWarning: \n",
      "A value is trying to be set on a copy of a slice from a DataFrame.\n",
      "Try using .loc[row_indexer,col_indexer] = value instead\n",
      "\n",
      "See the caveats in the documentation: https://pandas.pydata.org/pandas-docs/stable/user_guide/indexing.html#returning-a-view-versus-a-copy\n",
      "  \n",
      "/Users/thomas/opt/miniconda3/envs/scraping_env/lib/python3.6/site-packages/pandas/core/indexing.py:1736: SettingWithCopyWarning: \n",
      "A value is trying to be set on a copy of a slice from a DataFrame.\n",
      "Try using .loc[row_indexer,col_indexer] = value instead\n",
      "\n",
      "See the caveats in the documentation: https://pandas.pydata.org/pandas-docs/stable/user_guide/indexing.html#returning-a-view-versus-a-copy\n",
      "  isetter(loc, value[:, i].tolist())\n"
     ]
    },
    {
     "data": {
      "text/html": [
       "<div>\n",
       "<style scoped>\n",
       "    .dataframe tbody tr th:only-of-type {\n",
       "        vertical-align: middle;\n",
       "    }\n",
       "\n",
       "    .dataframe tbody tr th {\n",
       "        vertical-align: top;\n",
       "    }\n",
       "\n",
       "    .dataframe thead th {\n",
       "        text-align: right;\n",
       "    }\n",
       "</style>\n",
       "<table border=\"1\" class=\"dataframe\">\n",
       "  <thead>\n",
       "    <tr style=\"text-align: right;\">\n",
       "      <th></th>\n",
       "      <th>sepal length</th>\n",
       "      <th>sepal width</th>\n",
       "      <th>petal length</th>\n",
       "      <th>petal width</th>\n",
       "      <th>target</th>\n",
       "      <th>target_int</th>\n",
       "      <th>sepal length_scalled</th>\n",
       "      <th>petal length_scalled</th>\n",
       "    </tr>\n",
       "  </thead>\n",
       "  <tbody>\n",
       "    <tr>\n",
       "      <th>94</th>\n",
       "      <td>5.6</td>\n",
       "      <td>2.7</td>\n",
       "      <td>4.2</td>\n",
       "      <td>1.3</td>\n",
       "      <td>versicolor</td>\n",
       "      <td>1</td>\n",
       "      <td>-0.948902</td>\n",
       "      <td>-0.820048</td>\n",
       "    </tr>\n",
       "    <tr>\n",
       "      <th>75</th>\n",
       "      <td>6.6</td>\n",
       "      <td>3.0</td>\n",
       "      <td>4.4</td>\n",
       "      <td>1.4</td>\n",
       "      <td>versicolor</td>\n",
       "      <td>1</td>\n",
       "      <td>0.499803</td>\n",
       "      <td>-0.584487</td>\n",
       "    </tr>\n",
       "    <tr>\n",
       "      <th>133</th>\n",
       "      <td>6.3</td>\n",
       "      <td>2.8</td>\n",
       "      <td>5.1</td>\n",
       "      <td>1.5</td>\n",
       "      <td>virginica</td>\n",
       "      <td>2</td>\n",
       "      <td>0.065192</td>\n",
       "      <td>0.239978</td>\n",
       "    </tr>\n",
       "    <tr>\n",
       "      <th>143</th>\n",
       "      <td>6.8</td>\n",
       "      <td>3.2</td>\n",
       "      <td>5.9</td>\n",
       "      <td>2.3</td>\n",
       "      <td>virginica</td>\n",
       "      <td>2</td>\n",
       "      <td>0.789544</td>\n",
       "      <td>1.182224</td>\n",
       "    </tr>\n",
       "    <tr>\n",
       "      <th>51</th>\n",
       "      <td>6.4</td>\n",
       "      <td>3.2</td>\n",
       "      <td>4.5</td>\n",
       "      <td>1.5</td>\n",
       "      <td>versicolor</td>\n",
       "      <td>1</td>\n",
       "      <td>0.210062</td>\n",
       "      <td>-0.466706</td>\n",
       "    </tr>\n",
       "  </tbody>\n",
       "</table>\n",
       "</div>"
      ],
      "text/plain": [
       "     sepal length  sepal width  petal length  petal width      target  \\\n",
       "94            5.6          2.7           4.2          1.3  versicolor   \n",
       "75            6.6          3.0           4.4          1.4  versicolor   \n",
       "133           6.3          2.8           5.1          1.5   virginica   \n",
       "143           6.8          3.2           5.9          2.3   virginica   \n",
       "51            6.4          3.2           4.5          1.5  versicolor   \n",
       "\n",
       "     target_int  sepal length_scalled  petal length_scalled  \n",
       "94            1             -0.948902             -0.820048  \n",
       "75            1              0.499803             -0.584487  \n",
       "133           2              0.065192              0.239978  \n",
       "143           2              0.789544              1.182224  \n",
       "51            1              0.210062             -0.466706  "
      ]
     },
     "execution_count": 58,
     "metadata": {},
     "output_type": "execute_result"
    }
   ],
   "source": [
    "df_train[scaled_feature] = sc.transform(df_train[feature])\n",
    "df_test[scaled_feature] = sc.transform(df_test[feature])\n",
    "df_test.head()"
   ]
  },
  {
   "cell_type": "code",
   "execution_count": 59,
   "id": "d059c8bd",
   "metadata": {},
   "outputs": [
    {
     "name": "stdout",
     "output_type": "stream",
     "text": [
      "5.6 7.7\n",
      "4.2 6.9\n"
     ]
    }
   ],
   "source": [
    "# Profile data setelah di scalled: min max\n",
    "\n",
    "print(min(df_test['sepal length']), max(df_test['sepal length']))\n",
    "print(min(df_test['petal length']), max(df_test['petal length']))\n",
    "\n"
   ]
  },
  {
   "cell_type": "code",
   "execution_count": 60,
   "id": "69e0940d",
   "metadata": {},
   "outputs": [
    {
     "name": "stdout",
     "output_type": "stream",
     "text": [
      "-0.9489017348149673 2.093378636347523\n",
      "-0.8200483554916265 2.3600314431832627\n"
     ]
    }
   ],
   "source": [
    "\n",
    "print(min(df_test['sepal length_scalled']), max(df_test['sepal length_scalled']))\n",
    "print(min(df_test['petal length_scalled']), max(df_test['petal length_scalled']))\n",
    "\n"
   ]
  },
  {
   "cell_type": "code",
   "execution_count": 61,
   "id": "90bd150d",
   "metadata": {},
   "outputs": [],
   "source": [
    "from sklearn.svm import SVC\n",
    "\n",
    "classifier = SVC(kernel='rbf', random_state=0)"
   ]
  },
  {
   "cell_type": "code",
   "execution_count": 62,
   "id": "068fced6",
   "metadata": {},
   "outputs": [
    {
     "name": "stderr",
     "output_type": "stream",
     "text": [
      "/Users/thomas/opt/miniconda3/envs/scraping_env/lib/python3.6/site-packages/sklearn/utils/validation.py:72: DataConversionWarning: A column-vector y was passed when a 1d array was expected. Please change the shape of y to (n_samples, ), for example using ravel().\n",
      "  return f(**kwargs)\n"
     ]
    },
    {
     "data": {
      "text/plain": [
       "SVC(random_state=0)"
      ]
     },
     "execution_count": 62,
     "metadata": {},
     "output_type": "execute_result"
    }
   ],
   "source": [
    "classifier.fit(df_train[scaled_feature], df_train[target])"
   ]
  },
  {
   "cell_type": "code",
   "execution_count": 63,
   "id": "7a28714f",
   "metadata": {},
   "outputs": [
    {
     "name": "stderr",
     "output_type": "stream",
     "text": [
      "/Users/thomas/opt/miniconda3/envs/scraping_env/lib/python3.6/site-packages/sklearn/utils/validation.py:72: DataConversionWarning: A column-vector y was passed when a 1d array was expected. Please change the shape of y to (n_samples, ), for example using ravel().\n",
      "  return f(**kwargs)\n"
     ]
    },
    {
     "data": {
      "text/plain": [
       "SVC(random_state=0)"
      ]
     },
     "execution_count": 63,
     "metadata": {},
     "output_type": "execute_result"
    }
   ],
   "source": [
    "classifier2 = SVC(kernel='rbf', random_state=0)\n",
    "classifier2.fit(df_train[feature], df_train[target])"
   ]
  },
  {
   "cell_type": "code",
   "execution_count": 64,
   "id": "03fd3327",
   "metadata": {},
   "outputs": [],
   "source": [
    "# This SVC class allows us to build a kernel SVM model \n",
    "# (linear as well as non-linear), \n",
    "#  The default value of the kernel is ‘rbf’. \n",
    "# Why ‘rbf’, because it is nonlinear and gives better \n",
    "# results as compared to linear."
   ]
  },
  {
   "cell_type": "code",
   "execution_count": 65,
   "id": "9a9896e0",
   "metadata": {},
   "outputs": [
    {
     "name": "stderr",
     "output_type": "stream",
     "text": [
      "/Users/thomas/opt/miniconda3/envs/scraping_env/lib/python3.6/site-packages/ipykernel_launcher.py:1: SettingWithCopyWarning: \n",
      "A value is trying to be set on a copy of a slice from a DataFrame.\n",
      "Try using .loc[row_indexer,col_indexer] = value instead\n",
      "\n",
      "See the caveats in the documentation: https://pandas.pydata.org/pandas-docs/stable/user_guide/indexing.html#returning-a-view-versus-a-copy\n",
      "  \"\"\"Entry point for launching an IPython kernel.\n"
     ]
    },
    {
     "data": {
      "text/html": [
       "<div>\n",
       "<style scoped>\n",
       "    .dataframe tbody tr th:only-of-type {\n",
       "        vertical-align: middle;\n",
       "    }\n",
       "\n",
       "    .dataframe tbody tr th {\n",
       "        vertical-align: top;\n",
       "    }\n",
       "\n",
       "    .dataframe thead th {\n",
       "        text-align: right;\n",
       "    }\n",
       "</style>\n",
       "<table border=\"1\" class=\"dataframe\">\n",
       "  <thead>\n",
       "    <tr style=\"text-align: right;\">\n",
       "      <th></th>\n",
       "      <th>sepal length</th>\n",
       "      <th>sepal width</th>\n",
       "      <th>petal length</th>\n",
       "      <th>petal width</th>\n",
       "      <th>target</th>\n",
       "      <th>target_int</th>\n",
       "      <th>sepal length_scalled</th>\n",
       "      <th>petal length_scalled</th>\n",
       "      <th>prediction</th>\n",
       "    </tr>\n",
       "  </thead>\n",
       "  <tbody>\n",
       "    <tr>\n",
       "      <th>99</th>\n",
       "      <td>5.7</td>\n",
       "      <td>2.8</td>\n",
       "      <td>4.1</td>\n",
       "      <td>1.3</td>\n",
       "      <td>versicolor</td>\n",
       "      <td>1</td>\n",
       "      <td>-0.804031</td>\n",
       "      <td>-0.937829</td>\n",
       "      <td>1</td>\n",
       "    </tr>\n",
       "    <tr>\n",
       "      <th>106</th>\n",
       "      <td>4.9</td>\n",
       "      <td>2.5</td>\n",
       "      <td>4.5</td>\n",
       "      <td>1.7</td>\n",
       "      <td>virginica</td>\n",
       "      <td>2</td>\n",
       "      <td>-1.962995</td>\n",
       "      <td>-0.466706</td>\n",
       "      <td>1</td>\n",
       "    </tr>\n",
       "    <tr>\n",
       "      <th>138</th>\n",
       "      <td>6.0</td>\n",
       "      <td>3.0</td>\n",
       "      <td>4.8</td>\n",
       "      <td>1.8</td>\n",
       "      <td>virginica</td>\n",
       "      <td>2</td>\n",
       "      <td>-0.369420</td>\n",
       "      <td>-0.113364</td>\n",
       "      <td>2</td>\n",
       "    </tr>\n",
       "    <tr>\n",
       "      <th>63</th>\n",
       "      <td>6.1</td>\n",
       "      <td>2.9</td>\n",
       "      <td>4.7</td>\n",
       "      <td>1.4</td>\n",
       "      <td>versicolor</td>\n",
       "      <td>1</td>\n",
       "      <td>-0.224549</td>\n",
       "      <td>-0.231145</td>\n",
       "      <td>1</td>\n",
       "    </tr>\n",
       "    <tr>\n",
       "      <th>70</th>\n",
       "      <td>5.9</td>\n",
       "      <td>3.2</td>\n",
       "      <td>4.8</td>\n",
       "      <td>1.8</td>\n",
       "      <td>versicolor</td>\n",
       "      <td>1</td>\n",
       "      <td>-0.514290</td>\n",
       "      <td>-0.113364</td>\n",
       "      <td>2</td>\n",
       "    </tr>\n",
       "  </tbody>\n",
       "</table>\n",
       "</div>"
      ],
      "text/plain": [
       "     sepal length  sepal width  petal length  petal width      target  \\\n",
       "99            5.7          2.8           4.1          1.3  versicolor   \n",
       "106           4.9          2.5           4.5          1.7   virginica   \n",
       "138           6.0          3.0           4.8          1.8   virginica   \n",
       "63            6.1          2.9           4.7          1.4  versicolor   \n",
       "70            5.9          3.2           4.8          1.8  versicolor   \n",
       "\n",
       "     target_int  sepal length_scalled  petal length_scalled  prediction  \n",
       "99            1             -0.804031             -0.937829           1  \n",
       "106           2             -1.962995             -0.466706           1  \n",
       "138           2             -0.369420             -0.113364           2  \n",
       "63            1             -0.224549             -0.231145           1  \n",
       "70            1             -0.514290             -0.113364           2  "
      ]
     },
     "execution_count": 65,
     "metadata": {},
     "output_type": "execute_result"
    }
   ],
   "source": [
    "df_train['prediction'] = classifier.predict(df_train[scaled_feature])\n",
    "df_train.head()"
   ]
  },
  {
   "cell_type": "code",
   "execution_count": 66,
   "id": "eb5a8535",
   "metadata": {},
   "outputs": [
    {
     "name": "stderr",
     "output_type": "stream",
     "text": [
      "/Users/thomas/opt/miniconda3/envs/scraping_env/lib/python3.6/site-packages/ipykernel_launcher.py:1: SettingWithCopyWarning: \n",
      "A value is trying to be set on a copy of a slice from a DataFrame.\n",
      "Try using .loc[row_indexer,col_indexer] = value instead\n",
      "\n",
      "See the caveats in the documentation: https://pandas.pydata.org/pandas-docs/stable/user_guide/indexing.html#returning-a-view-versus-a-copy\n",
      "  \"\"\"Entry point for launching an IPython kernel.\n"
     ]
    },
    {
     "data": {
      "text/html": [
       "<div>\n",
       "<style scoped>\n",
       "    .dataframe tbody tr th:only-of-type {\n",
       "        vertical-align: middle;\n",
       "    }\n",
       "\n",
       "    .dataframe tbody tr th {\n",
       "        vertical-align: top;\n",
       "    }\n",
       "\n",
       "    .dataframe thead th {\n",
       "        text-align: right;\n",
       "    }\n",
       "</style>\n",
       "<table border=\"1\" class=\"dataframe\">\n",
       "  <thead>\n",
       "    <tr style=\"text-align: right;\">\n",
       "      <th></th>\n",
       "      <th>sepal length</th>\n",
       "      <th>sepal width</th>\n",
       "      <th>petal length</th>\n",
       "      <th>petal width</th>\n",
       "      <th>target</th>\n",
       "      <th>target_int</th>\n",
       "      <th>sepal length_scalled</th>\n",
       "      <th>petal length_scalled</th>\n",
       "      <th>prediction</th>\n",
       "      <th>prediction2</th>\n",
       "    </tr>\n",
       "  </thead>\n",
       "  <tbody>\n",
       "    <tr>\n",
       "      <th>99</th>\n",
       "      <td>5.7</td>\n",
       "      <td>2.8</td>\n",
       "      <td>4.1</td>\n",
       "      <td>1.3</td>\n",
       "      <td>versicolor</td>\n",
       "      <td>1</td>\n",
       "      <td>-0.804031</td>\n",
       "      <td>-0.937829</td>\n",
       "      <td>1</td>\n",
       "      <td>1</td>\n",
       "    </tr>\n",
       "    <tr>\n",
       "      <th>106</th>\n",
       "      <td>4.9</td>\n",
       "      <td>2.5</td>\n",
       "      <td>4.5</td>\n",
       "      <td>1.7</td>\n",
       "      <td>virginica</td>\n",
       "      <td>2</td>\n",
       "      <td>-1.962995</td>\n",
       "      <td>-0.466706</td>\n",
       "      <td>1</td>\n",
       "      <td>1</td>\n",
       "    </tr>\n",
       "    <tr>\n",
       "      <th>138</th>\n",
       "      <td>6.0</td>\n",
       "      <td>3.0</td>\n",
       "      <td>4.8</td>\n",
       "      <td>1.8</td>\n",
       "      <td>virginica</td>\n",
       "      <td>2</td>\n",
       "      <td>-0.369420</td>\n",
       "      <td>-0.113364</td>\n",
       "      <td>2</td>\n",
       "      <td>1</td>\n",
       "    </tr>\n",
       "    <tr>\n",
       "      <th>63</th>\n",
       "      <td>6.1</td>\n",
       "      <td>2.9</td>\n",
       "      <td>4.7</td>\n",
       "      <td>1.4</td>\n",
       "      <td>versicolor</td>\n",
       "      <td>1</td>\n",
       "      <td>-0.224549</td>\n",
       "      <td>-0.231145</td>\n",
       "      <td>1</td>\n",
       "      <td>1</td>\n",
       "    </tr>\n",
       "    <tr>\n",
       "      <th>70</th>\n",
       "      <td>5.9</td>\n",
       "      <td>3.2</td>\n",
       "      <td>4.8</td>\n",
       "      <td>1.8</td>\n",
       "      <td>versicolor</td>\n",
       "      <td>1</td>\n",
       "      <td>-0.514290</td>\n",
       "      <td>-0.113364</td>\n",
       "      <td>2</td>\n",
       "      <td>2</td>\n",
       "    </tr>\n",
       "  </tbody>\n",
       "</table>\n",
       "</div>"
      ],
      "text/plain": [
       "     sepal length  sepal width  petal length  petal width      target  \\\n",
       "99            5.7          2.8           4.1          1.3  versicolor   \n",
       "106           4.9          2.5           4.5          1.7   virginica   \n",
       "138           6.0          3.0           4.8          1.8   virginica   \n",
       "63            6.1          2.9           4.7          1.4  versicolor   \n",
       "70            5.9          3.2           4.8          1.8  versicolor   \n",
       "\n",
       "     target_int  sepal length_scalled  petal length_scalled  prediction  \\\n",
       "99            1             -0.804031             -0.937829           1   \n",
       "106           2             -1.962995             -0.466706           1   \n",
       "138           2             -0.369420             -0.113364           2   \n",
       "63            1             -0.224549             -0.231145           1   \n",
       "70            1             -0.514290             -0.113364           2   \n",
       "\n",
       "     prediction2  \n",
       "99             1  \n",
       "106            1  \n",
       "138            1  \n",
       "63             1  \n",
       "70             2  "
      ]
     },
     "execution_count": 66,
     "metadata": {},
     "output_type": "execute_result"
    }
   ],
   "source": [
    "df_train['prediction2'] = classifier2.predict(df_train[feature])\n",
    "df_train.head()"
   ]
  },
  {
   "cell_type": "code",
   "execution_count": 67,
   "id": "6cd4fcea",
   "metadata": {},
   "outputs": [],
   "source": [
    "# Kita buat 2 model\n",
    "# 1. classifier: pakai preprosesing (standard scaller) --> agar \n",
    "#         nilai-nilai di features serupa\n",
    "# 2. classifier2: tanpa preprocesing\n",
    "    \n",
    "# nanti kita cek akurasinya dari kedua model tersebut, mana yang bagus?"
   ]
  },
  {
   "cell_type": "code",
   "execution_count": 68,
   "id": "714867a9",
   "metadata": {},
   "outputs": [
    {
     "name": "stderr",
     "output_type": "stream",
     "text": [
      "/Users/thomas/opt/miniconda3/envs/scraping_env/lib/python3.6/site-packages/ipykernel_launcher.py:1: SettingWithCopyWarning: \n",
      "A value is trying to be set on a copy of a slice from a DataFrame.\n",
      "Try using .loc[row_indexer,col_indexer] = value instead\n",
      "\n",
      "See the caveats in the documentation: https://pandas.pydata.org/pandas-docs/stable/user_guide/indexing.html#returning-a-view-versus-a-copy\n",
      "  \"\"\"Entry point for launching an IPython kernel.\n",
      "/Users/thomas/opt/miniconda3/envs/scraping_env/lib/python3.6/site-packages/ipykernel_launcher.py:2: SettingWithCopyWarning: \n",
      "A value is trying to be set on a copy of a slice from a DataFrame.\n",
      "Try using .loc[row_indexer,col_indexer] = value instead\n",
      "\n",
      "See the caveats in the documentation: https://pandas.pydata.org/pandas-docs/stable/user_guide/indexing.html#returning-a-view-versus-a-copy\n",
      "  \n"
     ]
    },
    {
     "data": {
      "text/html": [
       "<div>\n",
       "<style scoped>\n",
       "    .dataframe tbody tr th:only-of-type {\n",
       "        vertical-align: middle;\n",
       "    }\n",
       "\n",
       "    .dataframe tbody tr th {\n",
       "        vertical-align: top;\n",
       "    }\n",
       "\n",
       "    .dataframe thead th {\n",
       "        text-align: right;\n",
       "    }\n",
       "</style>\n",
       "<table border=\"1\" class=\"dataframe\">\n",
       "  <thead>\n",
       "    <tr style=\"text-align: right;\">\n",
       "      <th></th>\n",
       "      <th>sepal length</th>\n",
       "      <th>sepal width</th>\n",
       "      <th>petal length</th>\n",
       "      <th>petal width</th>\n",
       "      <th>target</th>\n",
       "      <th>target_int</th>\n",
       "      <th>sepal length_scalled</th>\n",
       "      <th>petal length_scalled</th>\n",
       "      <th>prediction</th>\n",
       "      <th>prediction2</th>\n",
       "    </tr>\n",
       "  </thead>\n",
       "  <tbody>\n",
       "    <tr>\n",
       "      <th>61</th>\n",
       "      <td>5.9</td>\n",
       "      <td>3.0</td>\n",
       "      <td>4.2</td>\n",
       "      <td>1.5</td>\n",
       "      <td>versicolor</td>\n",
       "      <td>1</td>\n",
       "      <td>-0.514290</td>\n",
       "      <td>-0.820048</td>\n",
       "      <td>1</td>\n",
       "      <td>1</td>\n",
       "    </tr>\n",
       "    <tr>\n",
       "      <th>73</th>\n",
       "      <td>6.1</td>\n",
       "      <td>2.8</td>\n",
       "      <td>4.7</td>\n",
       "      <td>1.2</td>\n",
       "      <td>versicolor</td>\n",
       "      <td>1</td>\n",
       "      <td>-0.224549</td>\n",
       "      <td>-0.231145</td>\n",
       "      <td>1</td>\n",
       "      <td>1</td>\n",
       "    </tr>\n",
       "    <tr>\n",
       "      <th>52</th>\n",
       "      <td>6.9</td>\n",
       "      <td>3.1</td>\n",
       "      <td>4.9</td>\n",
       "      <td>1.5</td>\n",
       "      <td>versicolor</td>\n",
       "      <td>1</td>\n",
       "      <td>0.934415</td>\n",
       "      <td>0.004417</td>\n",
       "      <td>1</td>\n",
       "      <td>1</td>\n",
       "    </tr>\n",
       "    <tr>\n",
       "      <th>121</th>\n",
       "      <td>5.6</td>\n",
       "      <td>2.8</td>\n",
       "      <td>4.9</td>\n",
       "      <td>2.0</td>\n",
       "      <td>virginica</td>\n",
       "      <td>2</td>\n",
       "      <td>-0.948902</td>\n",
       "      <td>0.004417</td>\n",
       "      <td>2</td>\n",
       "      <td>2</td>\n",
       "    </tr>\n",
       "    <tr>\n",
       "      <th>74</th>\n",
       "      <td>6.4</td>\n",
       "      <td>2.9</td>\n",
       "      <td>4.3</td>\n",
       "      <td>1.3</td>\n",
       "      <td>versicolor</td>\n",
       "      <td>1</td>\n",
       "      <td>0.210062</td>\n",
       "      <td>-0.702268</td>\n",
       "      <td>1</td>\n",
       "      <td>1</td>\n",
       "    </tr>\n",
       "  </tbody>\n",
       "</table>\n",
       "</div>"
      ],
      "text/plain": [
       "     sepal length  sepal width  petal length  petal width      target  \\\n",
       "61            5.9          3.0           4.2          1.5  versicolor   \n",
       "73            6.1          2.8           4.7          1.2  versicolor   \n",
       "52            6.9          3.1           4.9          1.5  versicolor   \n",
       "121           5.6          2.8           4.9          2.0   virginica   \n",
       "74            6.4          2.9           4.3          1.3  versicolor   \n",
       "\n",
       "     target_int  sepal length_scalled  petal length_scalled  prediction  \\\n",
       "61            1             -0.514290             -0.820048           1   \n",
       "73            1             -0.224549             -0.231145           1   \n",
       "52            1              0.934415              0.004417           1   \n",
       "121           2             -0.948902              0.004417           2   \n",
       "74            1              0.210062             -0.702268           1   \n",
       "\n",
       "     prediction2  \n",
       "61             1  \n",
       "73             1  \n",
       "52             1  \n",
       "121            2  \n",
       "74             1  "
      ]
     },
     "execution_count": 68,
     "metadata": {},
     "output_type": "execute_result"
    }
   ],
   "source": [
    "df_test['prediction'] = classifier.predict(df_test[scaled_feature])\n",
    "df_test['prediction2'] = classifier2.predict(df_test[feature])\n",
    "df_test.tail()"
   ]
  },
  {
   "cell_type": "code",
   "execution_count": 69,
   "id": "e0841635",
   "metadata": {},
   "outputs": [],
   "source": [
    "# Model 1: classifier\n",
    "#     Pipeline:\n",
    "#         data --> preprocesing(standard scaller) --> SVC\n",
    "# Model 2: classifier2\n",
    "#     Pipeline:\n",
    "#         data --> SVC\n",
    "    "
   ]
  },
  {
   "cell_type": "code",
   "execution_count": 70,
   "id": "f6a0f1c9",
   "metadata": {},
   "outputs": [
    {
     "name": "stdout",
     "output_type": "stream",
     "text": [
      "Confusion matrix:\n",
      " [[11  0]\n",
      " [ 0  9]]\n",
      "Accuracy:\n",
      " 1.0\n"
     ]
    }
   ],
   "source": [
    "# Berapa banyak yang terprediksi benar dan\n",
    "# berapa banyak yang terpredisi salah?\n",
    "# Confusion matrix\n",
    "\n",
    "# actual\\predicted P   N\n",
    "#    P             TP  FN \n",
    "#    N             FP  TN\n",
    "\n",
    "\n",
    "from sklearn.metrics import confusion_matrix, accuracy_score\n",
    "\n",
    "cm1 = confusion_matrix(df_test['target_int'], df_test['prediction'])\n",
    "print(\"Confusion matrix:\\n\", cm1)\n",
    "acc1 = accuracy_score(df_test['target_int'], df_test['prediction'])\n",
    "print('Accuracy:\\n', acc1)"
   ]
  },
  {
   "cell_type": "code",
   "execution_count": 71,
   "id": "94cd0d5e",
   "metadata": {},
   "outputs": [
    {
     "name": "stdout",
     "output_type": "stream",
     "text": [
      "Confusion matrix model 2:\n",
      " [[11  0]\n",
      " [ 0  9]]\n",
      "Accuracy model 2:\n",
      " 1.0\n"
     ]
    }
   ],
   "source": [
    "cm2 = confusion_matrix(df_test['target_int'], df_test['prediction2'])\n",
    "print(\"Confusion matrix model 2:\\n\", cm2)\n",
    "acc2 = accuracy_score(df_test['target_int'], df_test['prediction2'])\n",
    "print('Accuracy model 2:\\n', acc2)"
   ]
  },
  {
   "cell_type": "code",
   "execution_count": 72,
   "id": "060f114e",
   "metadata": {},
   "outputs": [],
   "source": [
    "from matplotlib.colors import ListedColormap\n"
   ]
  },
  {
   "cell_type": "code",
   "execution_count": 73,
   "id": "2e18084e",
   "metadata": {},
   "outputs": [
    {
     "data": {
      "text/plain": [
       "array([1, 1, 2, 2, 1, 1, 1, 1, 1, 2, 2, 2, 2, 2, 2, 1, 1, 1, 2, 1])"
      ]
     },
     "execution_count": 73,
     "metadata": {},
     "output_type": "execute_result"
    }
   ],
   "source": [
    "X_set, y_set = df_test[scaled_feature].values, df_test[target].values.T[0]\n",
    "y_set\n"
   ]
  },
  {
   "cell_type": "code",
   "execution_count": 74,
   "id": "628ced33",
   "metadata": {},
   "outputs": [
    {
     "data": {
      "text/plain": [
       "array([1, 1, 2, 2, 1, 1, 1, 1, 1, 2, 2, 2, 2, 2, 2, 1, 1, 1, 2, 1])"
      ]
     },
     "execution_count": 74,
     "metadata": {},
     "output_type": "execute_result"
    }
   ],
   "source": [
    "df_test[target].values.T[0]"
   ]
  },
  {
   "cell_type": "code",
   "execution_count": 75,
   "id": "d8cd721c",
   "metadata": {},
   "outputs": [
    {
     "name": "stderr",
     "output_type": "stream",
     "text": [
      "*c* argument looks like a single numeric RGB or RGBA sequence, which should be avoided as value-mapping will have precedence in case its length matches with *x* & *y*.  Please use the *color* keyword-argument or provide a 2-D array with a single row if you intend to specify the same RGB or RGBA value for all points.\n",
      "*c* argument looks like a single numeric RGB or RGBA sequence, which should be avoided as value-mapping will have precedence in case its length matches with *x* & *y*.  Please use the *color* keyword-argument or provide a 2-D array with a single row if you intend to specify the same RGB or RGBA value for all points.\n"
     ]
    },
    {
     "data": {
      "image/png": "[encoded data removed]",
      "text/plain": [
       "<Figure size 432x288 with 1 Axes>"
      ]
     },
     "metadata": {
      "needs_background": "light"
     },
     "output_type": "display_data"
    }
   ],
   "source": [
    "X1, X2 = np.meshgrid(\n",
    "    np.arange(\n",
    "        start=X_set[:, 0].min() - 1, \n",
    "        stop=X_set[:, 0].max() + 1, \n",
    "        step=0.01),\n",
    "    np.arange(\n",
    "        start=X_set[:, 0].min() - 1, \n",
    "        stop=X_set[:, 0].max() + 1, \n",
    "        step=0.01))\n",
    "\n",
    "plt.contourf(\n",
    "    X1, \n",
    "    X2, \n",
    "    classifier.predict(\n",
    "        np.array([X1.ravel(), \n",
    "                  X2.ravel()]).T).reshape(X1.shape),\n",
    "            alpha=0.75,\n",
    "            cmap=ListedColormap(\n",
    "                ('red', 'green')))\n",
    "\n",
    "plt.xlim(X1.min(), X1.max())\n",
    "plt.ylim(X2.min(), X2.max())\n",
    "\n",
    "for i, j in enumerate(np.unique(y_set)):\n",
    "    plt.scatter(\n",
    "        X_set[y_set == j, 0],\n",
    "        X_set[y_set == j, 1],\n",
    "        c=ListedColormap(('red', 'green'))(i),\n",
    "        label=j)\n",
    "\n",
    "plt.title('SVM model 1')\n",
    "plt.xlabel('Age')\n",
    "plt.ylabel('Estimated Salary')\n",
    "plt.legend()\n",
    "plt.show()\n",
    "    \n",
    "    \n",
    "    \n",
    "\n"
   ]
  },
  {
   "cell_type": "code",
   "execution_count": 76,
   "id": "808d0dae",
   "metadata": {},
   "outputs": [
    {
     "name": "stdout",
     "output_type": "stream",
     "text": [
      "Confusion matrix model 1:\n",
      " [[11  0]\n",
      " [ 0  9]]\n"
     ]
    }
   ],
   "source": [
    "print(\"Confusion matrix model 1:\\n\", cm1)\n"
   ]
  },
  {
   "cell_type": "code",
   "execution_count": 77,
   "id": "ead4796e",
   "metadata": {},
   "outputs": [
    {
     "name": "stdout",
     "output_type": "stream",
     "text": [
      "Confusion matrix model 2:\n",
      " [[11  0]\n",
      " [ 0  9]]\n"
     ]
    }
   ],
   "source": [
    "print(\"Confusion matrix model 2:\\n\", cm2)\n"
   ]
  },
  {
   "cell_type": "code",
   "execution_count": null,
   "id": "8c8e15e3",
   "metadata": {},
   "outputs": [],
   "source": []
  }
 ],
 "metadata": {
  "kernelspec": {
   "display_name": "Python 3",
   "language": "python",
   "name": "python3"
  },
  "language_info": {
   "codemirror_mode": {
    "name": "ipython",
    "version": 3
   },
   "file_extension": ".py",
   "mimetype": "text/x-python",
   "name": "python",
   "nbconvert_exporter": "python",
   "pygments_lexer": "ipython3",
   "version": "3.6.13"
  }
 },
 "nbformat": 4,
 "nbformat_minor": 5
}
