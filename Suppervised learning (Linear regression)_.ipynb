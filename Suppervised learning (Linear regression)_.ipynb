{
 "cells": [
  {
   "cell_type": "code",
   "execution_count": 1,
   "id": "1cacd3b8",
   "metadata": {},
   "outputs": [],
   "source": [
    "# Supervised learning\n",
    "# guid --> target\n",
    "\n",
    "# data --->            apa? \n",
    "# warna    bentuk      target\n",
    "# kurning  bulat       jeruk 0\n",
    "# merah.   lonceng.    jambu 1\n",
    "# kuning.  panjang.    pisang 2\n",
    "\n",
    "# Regression [value dari target continue: Real]\n",
    "#     - linear regression y = m*x + c\n",
    "#     - nonlinear regresssion = selain itu y = x^2\n",
    "\n",
    "# Classification [value dari target diskrit: Natural]\n",
    "#     tanggal_beli ----> panjang_pensil\n",
    "#     tahun_belajar ---> jumlan_pensil_yang_dibeli"
   ]
  },
  {
   "cell_type": "code",
   "execution_count": 2,
   "id": "9c00b887",
   "metadata": {},
   "outputs": [],
   "source": [
    "# Linear regression --> y = m*x + c\n",
    "# yang dicari m dan c\n",
    "# y: target\n",
    "# x: input\n",
    "# evaluasi: RMSE (Root Mean Square Error)"
   ]
  },
  {
   "cell_type": "code",
   "execution_count": 3,
   "id": "876a926c",
   "metadata": {},
   "outputs": [
    {
     "name": "stdout",
     "output_type": "stream",
     "text": [
      "target_name:  {'setosa', 'virginica', 'versicolor'}\n"
     ]
    },
    {
     "data": {
      "text/html": [
       "<div>\n",
       "<style scoped>\n",
       "    .dataframe tbody tr th:only-of-type {\n",
       "        vertical-align: middle;\n",
       "    }\n",
       "\n",
       "    .dataframe tbody tr th {\n",
       "        vertical-align: top;\n",
       "    }\n",
       "\n",
       "    .dataframe thead th {\n",
       "        text-align: right;\n",
       "    }\n",
       "</style>\n",
       "<table border=\"1\" class=\"dataframe\">\n",
       "  <thead>\n",
       "    <tr style=\"text-align: right;\">\n",
       "      <th></th>\n",
       "      <th>sepal length</th>\n",
       "      <th>sepal width</th>\n",
       "      <th>petal length</th>\n",
       "      <th>petal width</th>\n",
       "      <th>target</th>\n",
       "      <th>target_int</th>\n",
       "    </tr>\n",
       "  </thead>\n",
       "  <tbody>\n",
       "    <tr>\n",
       "      <th>145</th>\n",
       "      <td>6.7</td>\n",
       "      <td>3.0</td>\n",
       "      <td>5.2</td>\n",
       "      <td>2.3</td>\n",
       "      <td>virginica</td>\n",
       "      <td>2</td>\n",
       "    </tr>\n",
       "    <tr>\n",
       "      <th>146</th>\n",
       "      <td>6.3</td>\n",
       "      <td>2.5</td>\n",
       "      <td>5.0</td>\n",
       "      <td>1.9</td>\n",
       "      <td>virginica</td>\n",
       "      <td>2</td>\n",
       "    </tr>\n",
       "    <tr>\n",
       "      <th>147</th>\n",
       "      <td>6.5</td>\n",
       "      <td>3.0</td>\n",
       "      <td>5.2</td>\n",
       "      <td>2.0</td>\n",
       "      <td>virginica</td>\n",
       "      <td>2</td>\n",
       "    </tr>\n",
       "    <tr>\n",
       "      <th>148</th>\n",
       "      <td>6.2</td>\n",
       "      <td>3.4</td>\n",
       "      <td>5.4</td>\n",
       "      <td>2.3</td>\n",
       "      <td>virginica</td>\n",
       "      <td>2</td>\n",
       "    </tr>\n",
       "    <tr>\n",
       "      <th>149</th>\n",
       "      <td>5.9</td>\n",
       "      <td>3.0</td>\n",
       "      <td>5.1</td>\n",
       "      <td>1.8</td>\n",
       "      <td>virginica</td>\n",
       "      <td>2</td>\n",
       "    </tr>\n",
       "  </tbody>\n",
       "</table>\n",
       "</div>"
      ],
      "text/plain": [
       "     sepal length  sepal width  petal length  petal width     target  \\\n",
       "145           6.7          3.0           5.2          2.3  virginica   \n",
       "146           6.3          2.5           5.0          1.9  virginica   \n",
       "147           6.5          3.0           5.2          2.0  virginica   \n",
       "148           6.2          3.4           5.4          2.3  virginica   \n",
       "149           5.9          3.0           5.1          1.8  virginica   \n",
       "\n",
       "     target_int  \n",
       "145           2  \n",
       "146           2  \n",
       "147           2  \n",
       "148           2  \n",
       "149           2  "
      ]
     },
     "execution_count": 3,
     "metadata": {},
     "output_type": "execute_result"
    }
   ],
   "source": [
    "from sklearn import datasets\n",
    "import pandas as pd\n",
    "import numpy as np\n",
    "\n",
    "def get_df_with_string():\n",
    "    cols = ['sepal length', \n",
    "           'sepal width',\n",
    "           'petal length',\n",
    "           'petal width']\n",
    "    iris = datasets.load_iris()\n",
    "    target_dict = {\n",
    "        0: 'setosa',\n",
    "        1: 'versicolor',\n",
    "        2: 'virginica'\n",
    "    }\n",
    "    target = iris.target\n",
    "    new_target = []\n",
    "    for t in target:\n",
    "        new_target.append(target_dict[t])\n",
    "    print(\"target_name: \", set(new_target))\n",
    "    df = pd.DataFrame(iris.data)\n",
    "    df.columns = cols\n",
    "    df['target'] = new_target\n",
    "    df['target_int'] = target\n",
    "    return df\n",
    "\n",
    "data = get_df_with_string()\n",
    "data.tail()"
   ]
  },
  {
   "cell_type": "code",
   "execution_count": 4,
   "id": "bc767056",
   "metadata": {},
   "outputs": [
    {
     "data": {
      "text/html": [
       "<div>\n",
       "<style scoped>\n",
       "    .dataframe tbody tr th:only-of-type {\n",
       "        vertical-align: middle;\n",
       "    }\n",
       "\n",
       "    .dataframe tbody tr th {\n",
       "        vertical-align: top;\n",
       "    }\n",
       "\n",
       "    .dataframe thead th {\n",
       "        text-align: right;\n",
       "    }\n",
       "</style>\n",
       "<table border=\"1\" class=\"dataframe\">\n",
       "  <thead>\n",
       "    <tr style=\"text-align: right;\">\n",
       "      <th></th>\n",
       "      <th>petal length</th>\n",
       "      <th>petal width</th>\n",
       "    </tr>\n",
       "  </thead>\n",
       "  <tbody>\n",
       "    <tr>\n",
       "      <th>0</th>\n",
       "      <td>1.4</td>\n",
       "      <td>0.2</td>\n",
       "    </tr>\n",
       "    <tr>\n",
       "      <th>1</th>\n",
       "      <td>1.4</td>\n",
       "      <td>0.2</td>\n",
       "    </tr>\n",
       "    <tr>\n",
       "      <th>2</th>\n",
       "      <td>1.3</td>\n",
       "      <td>0.2</td>\n",
       "    </tr>\n",
       "    <tr>\n",
       "      <th>3</th>\n",
       "      <td>1.5</td>\n",
       "      <td>0.2</td>\n",
       "    </tr>\n",
       "    <tr>\n",
       "      <th>4</th>\n",
       "      <td>1.4</td>\n",
       "      <td>0.2</td>\n",
       "    </tr>\n",
       "  </tbody>\n",
       "</table>\n",
       "</div>"
      ],
      "text/plain": [
       "   petal length  petal width\n",
       "0           1.4          0.2\n",
       "1           1.4          0.2\n",
       "2           1.3          0.2\n",
       "3           1.5          0.2\n",
       "4           1.4          0.2"
      ]
     },
     "execution_count": 4,
     "metadata": {},
     "output_type": "execute_result"
    }
   ],
   "source": [
    "data = data[['petal length', 'petal width']]\n",
    "data.head()"
   ]
  },
  {
   "cell_type": "code",
   "execution_count": 5,
   "id": "57b3ec16",
   "metadata": {},
   "outputs": [
    {
     "data": {
      "text/plain": [
       "150"
      ]
     },
     "execution_count": 5,
     "metadata": {},
     "output_type": "execute_result"
    }
   ],
   "source": [
    "len(data)"
   ]
  },
  {
   "cell_type": "code",
   "execution_count": 6,
   "id": "d95fd965",
   "metadata": {},
   "outputs": [],
   "source": [
    "from sklearn.model_selection import train_test_split\n"
   ]
  },
  {
   "cell_type": "code",
   "execution_count": 7,
   "id": "684dda12",
   "metadata": {},
   "outputs": [
    {
     "name": "stdout",
     "output_type": "stream",
     "text": [
      "120 30\n"
     ]
    }
   ],
   "source": [
    "data.columns = ['x', 'y']\n",
    "train, test = train_test_split(data, test_size=0.2)\n",
    "print(len(train), len(test))\n",
    "data = train"
   ]
  },
  {
   "cell_type": "code",
   "execution_count": 8,
   "id": "2e6863bf",
   "metadata": {},
   "outputs": [
    {
     "name": "stdout",
     "output_type": "stream",
     "text": [
      "120 30\n"
     ]
    }
   ],
   "source": [
    "print(len(train), len(test))"
   ]
  },
  {
   "cell_type": "code",
   "execution_count": 9,
   "id": "cfddf03f",
   "metadata": {},
   "outputs": [
    {
     "data": {
      "image/png": "[encoded data removed]",
      "text/plain": [
       "<Figure size 432x288 with 1 Axes>"
      ]
     },
     "metadata": {
      "needs_background": "light"
     },
     "output_type": "display_data"
    }
   ],
   "source": [
    "import matplotlib.pyplot as plt\n",
    "\n",
    "def plot(data, x, y):\n",
    "    plt.scatter(data[x], data[y])\n",
    "    plt.xlabel(x)\n",
    "    plt.ylabel(y)\n",
    "    plt.show()\n",
    "    return None\n",
    "\n",
    "plot(data, 'x', 'y')\n",
    "\n"
   ]
  },
  {
   "cell_type": "markdown",
   "id": "524ef172",
   "metadata": {},
   "source": [
    "# cari m\n",
    "\n",
    "$$m=\\frac{\\sum_{i=1}^n (x_i-\\hat{x})(y_i-\\hat{y})}{\\sum_{i=1}^n (x_i-\\hat{x})^2}$$"
   ]
  },
  {
   "cell_type": "markdown",
   "id": "f8a1ced4",
   "metadata": {},
   "source": [
    "$\\hat{x}$: mean/average dari x\n",
    "\n",
    "$\\hat{y}$: mean/average dari y"
   ]
  },
  {
   "cell_type": "code",
   "execution_count": 10,
   "id": "6f7bc0a6",
   "metadata": {},
   "outputs": [
    {
     "data": {
      "text/plain": [
       "(3.790833333333333, 1.2083333333333333)"
      ]
     },
     "execution_count": 10,
     "metadata": {},
     "output_type": "execute_result"
    }
   ],
   "source": [
    "mean_x = np.mean(data['x'])\n",
    "mean_y = np.mean(data['y'])\n",
    "mean_x, mean_y"
   ]
  },
  {
   "cell_type": "code",
   "execution_count": 11,
   "id": "15bf39fd",
   "metadata": {},
   "outputs": [
    {
     "data": {
      "text/html": [
       "<div>\n",
       "<style scoped>\n",
       "    .dataframe tbody tr th:only-of-type {\n",
       "        vertical-align: middle;\n",
       "    }\n",
       "\n",
       "    .dataframe tbody tr th {\n",
       "        vertical-align: top;\n",
       "    }\n",
       "\n",
       "    .dataframe thead th {\n",
       "        text-align: right;\n",
       "    }\n",
       "</style>\n",
       "<table border=\"1\" class=\"dataframe\">\n",
       "  <thead>\n",
       "    <tr style=\"text-align: right;\">\n",
       "      <th></th>\n",
       "      <th>x</th>\n",
       "      <th>y</th>\n",
       "      <th>x-mean(x)</th>\n",
       "    </tr>\n",
       "  </thead>\n",
       "  <tbody>\n",
       "    <tr>\n",
       "      <th>113</th>\n",
       "      <td>5.0</td>\n",
       "      <td>2.0</td>\n",
       "      <td>1.209167</td>\n",
       "    </tr>\n",
       "    <tr>\n",
       "      <th>130</th>\n",
       "      <td>6.1</td>\n",
       "      <td>1.9</td>\n",
       "      <td>2.309167</td>\n",
       "    </tr>\n",
       "    <tr>\n",
       "      <th>140</th>\n",
       "      <td>5.6</td>\n",
       "      <td>2.4</td>\n",
       "      <td>1.809167</td>\n",
       "    </tr>\n",
       "    <tr>\n",
       "      <th>47</th>\n",
       "      <td>1.4</td>\n",
       "      <td>0.2</td>\n",
       "      <td>-2.390833</td>\n",
       "    </tr>\n",
       "    <tr>\n",
       "      <th>45</th>\n",
       "      <td>1.4</td>\n",
       "      <td>0.3</td>\n",
       "      <td>-2.390833</td>\n",
       "    </tr>\n",
       "  </tbody>\n",
       "</table>\n",
       "</div>"
      ],
      "text/plain": [
       "       x    y  x-mean(x)\n",
       "113  5.0  2.0   1.209167\n",
       "130  6.1  1.9   2.309167\n",
       "140  5.6  2.4   1.809167\n",
       "47   1.4  0.2  -2.390833\n",
       "45   1.4  0.3  -2.390833"
      ]
     },
     "execution_count": 11,
     "metadata": {},
     "output_type": "execute_result"
    }
   ],
   "source": [
    "# hitung (x_i - mean(x))\n",
    "data['x-mean(x)'] = data['x'] - mean_x\n",
    "data.head()"
   ]
  },
  {
   "cell_type": "code",
   "execution_count": 12,
   "id": "f8fc87fb",
   "metadata": {},
   "outputs": [
    {
     "data": {
      "text/html": [
       "<div>\n",
       "<style scoped>\n",
       "    .dataframe tbody tr th:only-of-type {\n",
       "        vertical-align: middle;\n",
       "    }\n",
       "\n",
       "    .dataframe tbody tr th {\n",
       "        vertical-align: top;\n",
       "    }\n",
       "\n",
       "    .dataframe thead th {\n",
       "        text-align: right;\n",
       "    }\n",
       "</style>\n",
       "<table border=\"1\" class=\"dataframe\">\n",
       "  <thead>\n",
       "    <tr style=\"text-align: right;\">\n",
       "      <th></th>\n",
       "      <th>x</th>\n",
       "      <th>y</th>\n",
       "      <th>x-mean(x)</th>\n",
       "      <th>y-mean(y)</th>\n",
       "    </tr>\n",
       "  </thead>\n",
       "  <tbody>\n",
       "    <tr>\n",
       "      <th>113</th>\n",
       "      <td>5.0</td>\n",
       "      <td>2.0</td>\n",
       "      <td>1.209167</td>\n",
       "      <td>0.791667</td>\n",
       "    </tr>\n",
       "    <tr>\n",
       "      <th>130</th>\n",
       "      <td>6.1</td>\n",
       "      <td>1.9</td>\n",
       "      <td>2.309167</td>\n",
       "      <td>0.691667</td>\n",
       "    </tr>\n",
       "    <tr>\n",
       "      <th>140</th>\n",
       "      <td>5.6</td>\n",
       "      <td>2.4</td>\n",
       "      <td>1.809167</td>\n",
       "      <td>1.191667</td>\n",
       "    </tr>\n",
       "    <tr>\n",
       "      <th>47</th>\n",
       "      <td>1.4</td>\n",
       "      <td>0.2</td>\n",
       "      <td>-2.390833</td>\n",
       "      <td>-1.008333</td>\n",
       "    </tr>\n",
       "    <tr>\n",
       "      <th>45</th>\n",
       "      <td>1.4</td>\n",
       "      <td>0.3</td>\n",
       "      <td>-2.390833</td>\n",
       "      <td>-0.908333</td>\n",
       "    </tr>\n",
       "  </tbody>\n",
       "</table>\n",
       "</div>"
      ],
      "text/plain": [
       "       x    y  x-mean(x)  y-mean(y)\n",
       "113  5.0  2.0   1.209167   0.791667\n",
       "130  6.1  1.9   2.309167   0.691667\n",
       "140  5.6  2.4   1.809167   1.191667\n",
       "47   1.4  0.2  -2.390833  -1.008333\n",
       "45   1.4  0.3  -2.390833  -0.908333"
      ]
     },
     "execution_count": 12,
     "metadata": {},
     "output_type": "execute_result"
    }
   ],
   "source": [
    "data['y-mean(y)'] = data['y'] - mean_y\n",
    "data.head()"
   ]
  },
  {
   "cell_type": "code",
   "execution_count": 13,
   "id": "1b3cb7e8",
   "metadata": {},
   "outputs": [
    {
     "data": {
      "text/html": [
       "<div>\n",
       "<style scoped>\n",
       "    .dataframe tbody tr th:only-of-type {\n",
       "        vertical-align: middle;\n",
       "    }\n",
       "\n",
       "    .dataframe tbody tr th {\n",
       "        vertical-align: top;\n",
       "    }\n",
       "\n",
       "    .dataframe thead th {\n",
       "        text-align: right;\n",
       "    }\n",
       "</style>\n",
       "<table border=\"1\" class=\"dataframe\">\n",
       "  <thead>\n",
       "    <tr style=\"text-align: right;\">\n",
       "      <th></th>\n",
       "      <th>x</th>\n",
       "      <th>y</th>\n",
       "      <th>x-mean(x)</th>\n",
       "      <th>y-mean(y)</th>\n",
       "      <th>(x-mean(x))^2</th>\n",
       "    </tr>\n",
       "  </thead>\n",
       "  <tbody>\n",
       "    <tr>\n",
       "      <th>113</th>\n",
       "      <td>5.0</td>\n",
       "      <td>2.0</td>\n",
       "      <td>1.209167</td>\n",
       "      <td>0.791667</td>\n",
       "      <td>1.462084</td>\n",
       "    </tr>\n",
       "    <tr>\n",
       "      <th>130</th>\n",
       "      <td>6.1</td>\n",
       "      <td>1.9</td>\n",
       "      <td>2.309167</td>\n",
       "      <td>0.691667</td>\n",
       "      <td>5.332251</td>\n",
       "    </tr>\n",
       "    <tr>\n",
       "      <th>140</th>\n",
       "      <td>5.6</td>\n",
       "      <td>2.4</td>\n",
       "      <td>1.809167</td>\n",
       "      <td>1.191667</td>\n",
       "      <td>3.273084</td>\n",
       "    </tr>\n",
       "    <tr>\n",
       "      <th>47</th>\n",
       "      <td>1.4</td>\n",
       "      <td>0.2</td>\n",
       "      <td>-2.390833</td>\n",
       "      <td>-1.008333</td>\n",
       "      <td>5.716084</td>\n",
       "    </tr>\n",
       "    <tr>\n",
       "      <th>45</th>\n",
       "      <td>1.4</td>\n",
       "      <td>0.3</td>\n",
       "      <td>-2.390833</td>\n",
       "      <td>-0.908333</td>\n",
       "      <td>5.716084</td>\n",
       "    </tr>\n",
       "  </tbody>\n",
       "</table>\n",
       "</div>"
      ],
      "text/plain": [
       "       x    y  x-mean(x)  y-mean(y)  (x-mean(x))^2\n",
       "113  5.0  2.0   1.209167   0.791667       1.462084\n",
       "130  6.1  1.9   2.309167   0.691667       5.332251\n",
       "140  5.6  2.4   1.809167   1.191667       3.273084\n",
       "47   1.4  0.2  -2.390833  -1.008333       5.716084\n",
       "45   1.4  0.3  -2.390833  -0.908333       5.716084"
      ]
     },
     "execution_count": 13,
     "metadata": {},
     "output_type": "execute_result"
    }
   ],
   "source": [
    "data['(x-mean(x))^2'] = data['x-mean(x)']**2\n",
    "data.head()"
   ]
  },
  {
   "cell_type": "code",
   "execution_count": 14,
   "id": "b8f0245a",
   "metadata": {},
   "outputs": [
    {
     "data": {
      "text/html": [
       "<div>\n",
       "<style scoped>\n",
       "    .dataframe tbody tr th:only-of-type {\n",
       "        vertical-align: middle;\n",
       "    }\n",
       "\n",
       "    .dataframe tbody tr th {\n",
       "        vertical-align: top;\n",
       "    }\n",
       "\n",
       "    .dataframe thead th {\n",
       "        text-align: right;\n",
       "    }\n",
       "</style>\n",
       "<table border=\"1\" class=\"dataframe\">\n",
       "  <thead>\n",
       "    <tr style=\"text-align: right;\">\n",
       "      <th></th>\n",
       "      <th>x</th>\n",
       "      <th>y</th>\n",
       "      <th>x-mean(x)</th>\n",
       "      <th>y-mean(y)</th>\n",
       "      <th>(x-mean(x))^2</th>\n",
       "      <th>(x-mean(x))(y-mean(y))</th>\n",
       "    </tr>\n",
       "  </thead>\n",
       "  <tbody>\n",
       "    <tr>\n",
       "      <th>113</th>\n",
       "      <td>5.0</td>\n",
       "      <td>2.0</td>\n",
       "      <td>1.209167</td>\n",
       "      <td>0.791667</td>\n",
       "      <td>1.462084</td>\n",
       "      <td>0.957257</td>\n",
       "    </tr>\n",
       "    <tr>\n",
       "      <th>130</th>\n",
       "      <td>6.1</td>\n",
       "      <td>1.9</td>\n",
       "      <td>2.309167</td>\n",
       "      <td>0.691667</td>\n",
       "      <td>5.332251</td>\n",
       "      <td>1.597174</td>\n",
       "    </tr>\n",
       "    <tr>\n",
       "      <th>140</th>\n",
       "      <td>5.6</td>\n",
       "      <td>2.4</td>\n",
       "      <td>1.809167</td>\n",
       "      <td>1.191667</td>\n",
       "      <td>3.273084</td>\n",
       "      <td>2.155924</td>\n",
       "    </tr>\n",
       "    <tr>\n",
       "      <th>47</th>\n",
       "      <td>1.4</td>\n",
       "      <td>0.2</td>\n",
       "      <td>-2.390833</td>\n",
       "      <td>-1.008333</td>\n",
       "      <td>5.716084</td>\n",
       "      <td>2.410757</td>\n",
       "    </tr>\n",
       "    <tr>\n",
       "      <th>45</th>\n",
       "      <td>1.4</td>\n",
       "      <td>0.3</td>\n",
       "      <td>-2.390833</td>\n",
       "      <td>-0.908333</td>\n",
       "      <td>5.716084</td>\n",
       "      <td>2.171674</td>\n",
       "    </tr>\n",
       "  </tbody>\n",
       "</table>\n",
       "</div>"
      ],
      "text/plain": [
       "       x    y  x-mean(x)  y-mean(y)  (x-mean(x))^2  (x-mean(x))(y-mean(y))\n",
       "113  5.0  2.0   1.209167   0.791667       1.462084                0.957257\n",
       "130  6.1  1.9   2.309167   0.691667       5.332251                1.597174\n",
       "140  5.6  2.4   1.809167   1.191667       3.273084                2.155924\n",
       "47   1.4  0.2  -2.390833  -1.008333       5.716084                2.410757\n",
       "45   1.4  0.3  -2.390833  -0.908333       5.716084                2.171674"
      ]
     },
     "execution_count": 14,
     "metadata": {},
     "output_type": "execute_result"
    }
   ],
   "source": [
    "data['(x-mean(x))(y-mean(y))'] = data['x-mean(x)']*data['y-mean(y)']\n",
    "data.head()"
   ]
  },
  {
   "cell_type": "code",
   "execution_count": 15,
   "id": "e177ec0e",
   "metadata": {},
   "outputs": [
    {
     "data": {
      "text/plain": [
       "(376.51991666666663, 155.76916666666665)"
      ]
     },
     "execution_count": 15,
     "metadata": {},
     "output_type": "execute_result"
    }
   ],
   "source": [
    "sum_x_sq = np.sum(data['(x-mean(x))^2'])\n",
    "sum_x_y = np.sum(data['(x-mean(x))(y-mean(y))'])\n",
    "sum_x_sq, sum_x_y"
   ]
  },
  {
   "cell_type": "code",
   "execution_count": 16,
   "id": "3f2ffece",
   "metadata": {},
   "outputs": [
    {
     "data": {
      "text/plain": [
       "0.41370764140630895"
      ]
     },
     "execution_count": 16,
     "metadata": {},
     "output_type": "execute_result"
    }
   ],
   "source": [
    "# m\n",
    "m = sum_x_y/sum_x_sq\n",
    "m"
   ]
  },
  {
   "cell_type": "code",
   "execution_count": 17,
   "id": "326c051e",
   "metadata": {},
   "outputs": [
    {
     "data": {
      "text/plain": [
       "-0.3599633839644161"
      ]
     },
     "execution_count": 17,
     "metadata": {},
     "output_type": "execute_result"
    }
   ],
   "source": [
    "# c\n",
    "# y = m*x + c\n",
    "# c = y - m*x\n",
    "c = mean_y - m*mean_x\n",
    "c\n"
   ]
  },
  {
   "cell_type": "code",
   "execution_count": 18,
   "id": "d431c920",
   "metadata": {},
   "outputs": [
    {
     "data": {
      "text/html": [
       "<div>\n",
       "<style scoped>\n",
       "    .dataframe tbody tr th:only-of-type {\n",
       "        vertical-align: middle;\n",
       "    }\n",
       "\n",
       "    .dataframe tbody tr th {\n",
       "        vertical-align: top;\n",
       "    }\n",
       "\n",
       "    .dataframe thead th {\n",
       "        text-align: right;\n",
       "    }\n",
       "</style>\n",
       "<table border=\"1\" class=\"dataframe\">\n",
       "  <thead>\n",
       "    <tr style=\"text-align: right;\">\n",
       "      <th></th>\n",
       "      <th>x</th>\n",
       "      <th>y</th>\n",
       "      <th>x-mean(x)</th>\n",
       "      <th>y-mean(y)</th>\n",
       "      <th>(x-mean(x))^2</th>\n",
       "      <th>(x-mean(x))(y-mean(y))</th>\n",
       "      <th>prediction</th>\n",
       "    </tr>\n",
       "  </thead>\n",
       "  <tbody>\n",
       "    <tr>\n",
       "      <th>113</th>\n",
       "      <td>5.0</td>\n",
       "      <td>2.0</td>\n",
       "      <td>1.209167</td>\n",
       "      <td>0.791667</td>\n",
       "      <td>1.462084</td>\n",
       "      <td>0.957257</td>\n",
       "      <td>1.708575</td>\n",
       "    </tr>\n",
       "    <tr>\n",
       "      <th>130</th>\n",
       "      <td>6.1</td>\n",
       "      <td>1.9</td>\n",
       "      <td>2.309167</td>\n",
       "      <td>0.691667</td>\n",
       "      <td>5.332251</td>\n",
       "      <td>1.597174</td>\n",
       "      <td>2.163653</td>\n",
       "    </tr>\n",
       "    <tr>\n",
       "      <th>140</th>\n",
       "      <td>5.6</td>\n",
       "      <td>2.4</td>\n",
       "      <td>1.809167</td>\n",
       "      <td>1.191667</td>\n",
       "      <td>3.273084</td>\n",
       "      <td>2.155924</td>\n",
       "      <td>1.956799</td>\n",
       "    </tr>\n",
       "    <tr>\n",
       "      <th>47</th>\n",
       "      <td>1.4</td>\n",
       "      <td>0.2</td>\n",
       "      <td>-2.390833</td>\n",
       "      <td>-1.008333</td>\n",
       "      <td>5.716084</td>\n",
       "      <td>2.410757</td>\n",
       "      <td>0.219227</td>\n",
       "    </tr>\n",
       "    <tr>\n",
       "      <th>45</th>\n",
       "      <td>1.4</td>\n",
       "      <td>0.3</td>\n",
       "      <td>-2.390833</td>\n",
       "      <td>-0.908333</td>\n",
       "      <td>5.716084</td>\n",
       "      <td>2.171674</td>\n",
       "      <td>0.219227</td>\n",
       "    </tr>\n",
       "  </tbody>\n",
       "</table>\n",
       "</div>"
      ],
      "text/plain": [
       "       x    y  x-mean(x)  y-mean(y)  (x-mean(x))^2  (x-mean(x))(y-mean(y))  \\\n",
       "113  5.0  2.0   1.209167   0.791667       1.462084                0.957257   \n",
       "130  6.1  1.9   2.309167   0.691667       5.332251                1.597174   \n",
       "140  5.6  2.4   1.809167   1.191667       3.273084                2.155924   \n",
       "47   1.4  0.2  -2.390833  -1.008333       5.716084                2.410757   \n",
       "45   1.4  0.3  -2.390833  -0.908333       5.716084                2.171674   \n",
       "\n",
       "     prediction  \n",
       "113    1.708575  \n",
       "130    2.163653  \n",
       "140    1.956799  \n",
       "47     0.219227  \n",
       "45     0.219227  "
      ]
     },
     "execution_count": 18,
     "metadata": {},
     "output_type": "execute_result"
    }
   ],
   "source": [
    "data['prediction'] = m*data['x'] + c\n",
    "data.head()"
   ]
  },
  {
   "cell_type": "code",
   "execution_count": 19,
   "id": "9ccefa4c",
   "metadata": {},
   "outputs": [
    {
     "data": {
      "text/html": [
       "<div>\n",
       "<style scoped>\n",
       "    .dataframe tbody tr th:only-of-type {\n",
       "        vertical-align: middle;\n",
       "    }\n",
       "\n",
       "    .dataframe tbody tr th {\n",
       "        vertical-align: top;\n",
       "    }\n",
       "\n",
       "    .dataframe thead th {\n",
       "        text-align: right;\n",
       "    }\n",
       "</style>\n",
       "<table border=\"1\" class=\"dataframe\">\n",
       "  <thead>\n",
       "    <tr style=\"text-align: right;\">\n",
       "      <th></th>\n",
       "      <th>x</th>\n",
       "      <th>y</th>\n",
       "      <th>prediction</th>\n",
       "    </tr>\n",
       "  </thead>\n",
       "  <tbody>\n",
       "    <tr>\n",
       "      <th>48</th>\n",
       "      <td>1.5</td>\n",
       "      <td>0.2</td>\n",
       "      <td>0.260598</td>\n",
       "    </tr>\n",
       "    <tr>\n",
       "      <th>81</th>\n",
       "      <td>3.7</td>\n",
       "      <td>1.0</td>\n",
       "      <td>1.170755</td>\n",
       "    </tr>\n",
       "    <tr>\n",
       "      <th>19</th>\n",
       "      <td>1.5</td>\n",
       "      <td>0.3</td>\n",
       "      <td>0.260598</td>\n",
       "    </tr>\n",
       "    <tr>\n",
       "      <th>15</th>\n",
       "      <td>1.5</td>\n",
       "      <td>0.4</td>\n",
       "      <td>0.260598</td>\n",
       "    </tr>\n",
       "    <tr>\n",
       "      <th>135</th>\n",
       "      <td>6.1</td>\n",
       "      <td>2.3</td>\n",
       "      <td>2.163653</td>\n",
       "    </tr>\n",
       "  </tbody>\n",
       "</table>\n",
       "</div>"
      ],
      "text/plain": [
       "       x    y  prediction\n",
       "48   1.5  0.2    0.260598\n",
       "81   3.7  1.0    1.170755\n",
       "19   1.5  0.3    0.260598\n",
       "15   1.5  0.4    0.260598\n",
       "135  6.1  2.3    2.163653"
      ]
     },
     "execution_count": 19,
     "metadata": {},
     "output_type": "execute_result"
    }
   ],
   "source": [
    "# test\n",
    "test['prediction'] = m*test['x'] + c\n",
    "test.head()"
   ]
  },
  {
   "cell_type": "code",
   "execution_count": 20,
   "id": "599b6bee",
   "metadata": {},
   "outputs": [
    {
     "data": {
      "image/png": "[encoded data removed]",
      "text/plain": [
       "<Figure size 432x288 with 1 Axes>"
      ]
     },
     "metadata": {
      "needs_background": "light"
     },
     "output_type": "display_data"
    }
   ],
   "source": [
    "def plot_grup(data, x, y_list):\n",
    "    for y in y_list:\n",
    "        plt.scatter(data[x], data[y])\n",
    "    plt.xlabel(x)\n",
    "    plt.ylabel('y')\n",
    "    plt.show()\n",
    "    return None\n",
    "plot_grup(data, 'x', ['y', 'prediction'])"
   ]
  },
  {
   "cell_type": "code",
   "execution_count": 21,
   "id": "a1ac6b1b",
   "metadata": {},
   "outputs": [
    {
     "data": {
      "image/png": "[encoded data removed]",
      "text/plain": [
       "<Figure size 432x288 with 1 Axes>"
      ]
     },
     "metadata": {
      "needs_background": "light"
     },
     "output_type": "display_data"
    }
   ],
   "source": [
    "plot_grup(test, 'x', ['y', 'prediction'])"
   ]
  },
  {
   "cell_type": "markdown",
   "id": "4e72723e",
   "metadata": {},
   "source": [
    "### R square value: seberapa akurat sih model kita\n",
    "\n",
    "$$R^2 = \\frac{\\sum{(y_{pred}-\\hat{y})^2}}{\\sum{(y-\\hat{y})^2}}$$"
   ]
  },
  {
   "cell_type": "code",
   "execution_count": 22,
   "id": "8efccfec",
   "metadata": {},
   "outputs": [
    {
     "data": {
      "text/html": [
       "<div>\n",
       "<style scoped>\n",
       "    .dataframe tbody tr th:only-of-type {\n",
       "        vertical-align: middle;\n",
       "    }\n",
       "\n",
       "    .dataframe tbody tr th {\n",
       "        vertical-align: top;\n",
       "    }\n",
       "\n",
       "    .dataframe thead th {\n",
       "        text-align: right;\n",
       "    }\n",
       "</style>\n",
       "<table border=\"1\" class=\"dataframe\">\n",
       "  <thead>\n",
       "    <tr style=\"text-align: right;\">\n",
       "      <th></th>\n",
       "      <th>x</th>\n",
       "      <th>y</th>\n",
       "      <th>x-mean(x)</th>\n",
       "      <th>y-mean(y)</th>\n",
       "      <th>(x-mean(x))^2</th>\n",
       "      <th>(x-mean(x))(y-mean(y))</th>\n",
       "      <th>prediction</th>\n",
       "      <th>y_pred-mean(y)</th>\n",
       "    </tr>\n",
       "  </thead>\n",
       "  <tbody>\n",
       "    <tr>\n",
       "      <th>113</th>\n",
       "      <td>5.0</td>\n",
       "      <td>2.0</td>\n",
       "      <td>1.209167</td>\n",
       "      <td>0.791667</td>\n",
       "      <td>1.462084</td>\n",
       "      <td>0.957257</td>\n",
       "      <td>1.708575</td>\n",
       "      <td>0.250242</td>\n",
       "    </tr>\n",
       "    <tr>\n",
       "      <th>130</th>\n",
       "      <td>6.1</td>\n",
       "      <td>1.9</td>\n",
       "      <td>2.309167</td>\n",
       "      <td>0.691667</td>\n",
       "      <td>5.332251</td>\n",
       "      <td>1.597174</td>\n",
       "      <td>2.163653</td>\n",
       "      <td>0.912636</td>\n",
       "    </tr>\n",
       "    <tr>\n",
       "      <th>140</th>\n",
       "      <td>5.6</td>\n",
       "      <td>2.4</td>\n",
       "      <td>1.809167</td>\n",
       "      <td>1.191667</td>\n",
       "      <td>3.273084</td>\n",
       "      <td>2.155924</td>\n",
       "      <td>1.956799</td>\n",
       "      <td>0.560201</td>\n",
       "    </tr>\n",
       "    <tr>\n",
       "      <th>47</th>\n",
       "      <td>1.4</td>\n",
       "      <td>0.2</td>\n",
       "      <td>-2.390833</td>\n",
       "      <td>-1.008333</td>\n",
       "      <td>5.716084</td>\n",
       "      <td>2.410757</td>\n",
       "      <td>0.219227</td>\n",
       "      <td>0.978331</td>\n",
       "    </tr>\n",
       "    <tr>\n",
       "      <th>45</th>\n",
       "      <td>1.4</td>\n",
       "      <td>0.3</td>\n",
       "      <td>-2.390833</td>\n",
       "      <td>-0.908333</td>\n",
       "      <td>5.716084</td>\n",
       "      <td>2.171674</td>\n",
       "      <td>0.219227</td>\n",
       "      <td>0.978331</td>\n",
       "    </tr>\n",
       "  </tbody>\n",
       "</table>\n",
       "</div>"
      ],
      "text/plain": [
       "       x    y  x-mean(x)  y-mean(y)  (x-mean(x))^2  (x-mean(x))(y-mean(y))  \\\n",
       "113  5.0  2.0   1.209167   0.791667       1.462084                0.957257   \n",
       "130  6.1  1.9   2.309167   0.691667       5.332251                1.597174   \n",
       "140  5.6  2.4   1.809167   1.191667       3.273084                2.155924   \n",
       "47   1.4  0.2  -2.390833  -1.008333       5.716084                2.410757   \n",
       "45   1.4  0.3  -2.390833  -0.908333       5.716084                2.171674   \n",
       "\n",
       "     prediction  y_pred-mean(y)  \n",
       "113    1.708575        0.250242  \n",
       "130    2.163653        0.912636  \n",
       "140    1.956799        0.560201  \n",
       "47     0.219227        0.978331  \n",
       "45     0.219227        0.978331  "
      ]
     },
     "execution_count": 22,
     "metadata": {},
     "output_type": "execute_result"
    }
   ],
   "source": [
    "data['y_pred-mean(y)'] = (data['prediction'] - mean_y)**2\n",
    "data.head()"
   ]
  },
  {
   "cell_type": "code",
   "execution_count": 23,
   "id": "acd3b635",
   "metadata": {},
   "outputs": [
    {
     "data": {
      "text/plain": [
       "(69.73166666666667, 64.4428945454929)"
      ]
     },
     "execution_count": 23,
     "metadata": {},
     "output_type": "execute_result"
    }
   ],
   "source": [
    "sum_y_ymean = np.sum(data['y-mean(y)']**2)\n",
    "sum_y_pred_ymean2 = np.sum(data['y_pred-mean(y)'])\n",
    "sum_y_ymean, sum_y_pred_ymean2"
   ]
  },
  {
   "cell_type": "code",
   "execution_count": 24,
   "id": "2ed71c2e",
   "metadata": {},
   "outputs": [
    {
     "data": {
      "text/plain": [
       "0.9241553748248224"
      ]
     },
     "execution_count": 24,
     "metadata": {},
     "output_type": "execute_result"
    }
   ],
   "source": [
    "R = sum_y_pred_ymean2/sum_y_ymean\n",
    "R"
   ]
  },
  {
   "cell_type": "code",
   "execution_count": 25,
   "id": "b154f94a",
   "metadata": {},
   "outputs": [],
   "source": [
    "from sklearn.linear_model import LinearRegression\n",
    "from sklearn.metrics import mean_squared_error\n",
    "\n"
   ]
  },
  {
   "cell_type": "code",
   "execution_count": 26,
   "id": "8bf41b36",
   "metadata": {},
   "outputs": [
    {
     "name": "stdout",
     "output_type": "stream",
     "text": [
      "0.9241553748248225\n"
     ]
    }
   ],
   "source": [
    "l = len(data)\n",
    "reg = LinearRegression()\n",
    "reg = reg.fit(data[['x']].to_numpy(), data['y'])\n",
    "\n",
    "Y_pred = reg.predict(data[['x']].to_numpy())\n",
    "r2_square = reg.score(data[['x']], data['y'])\n",
    "print(r2_square)"
   ]
  },
  {
   "cell_type": "code",
   "execution_count": 27,
   "id": "9293043d",
   "metadata": {},
   "outputs": [],
   "source": [
    "LinearRegression?"
   ]
  },
  {
   "cell_type": "code",
   "execution_count": 28,
   "id": "52cbf0ba",
   "metadata": {},
   "outputs": [],
   "source": [
    "import pickle\n",
    "\n",
    "# saving model\n",
    "with open('linear_reg_model.pkl','wb') as f:\n",
    "    pickle.dump(reg, f)"
   ]
  },
  {
   "cell_type": "code",
   "execution_count": 29,
   "id": "fa1420c9",
   "metadata": {},
   "outputs": [
    {
     "data": {
      "text/plain": [
       "array([1.70857482, 2.16365323, 1.95679941, 0.21922731, 0.21922731,\n",
       "       2.28776552, 1.74994559, 0.34333961, 1.41897947, 1.58446253,\n",
       "       0.30196884, 1.91542864, 1.87405788, 1.46035024, 1.74994559,\n",
       "       0.34333961, 1.95679941, 2.03954094, 1.66720406, 0.21922731,\n",
       "       0.26059808, 0.21922731, 0.30196884, 1.70857482, 0.05374426,\n",
       "       0.26059808, 2.16365323, 1.83268712, 2.03954094, 1.66720406,\n",
       "       1.25349642, 0.30196884, 0.42608113, 1.99817017, 2.24639476,\n",
       "       1.33623795, 0.21922731, 2.12228246, 1.501721  , 1.70857482,\n",
       "       1.62583329, 1.25349642, 1.83268712, 2.49461934, 1.37760871,\n",
       "       1.08801336, 0.21922731, 1.79131635, 1.501721  , 1.74994559,\n",
       "       1.46035024, 0.30196884, 1.25349642, 1.58446253, 1.29486718,\n",
       "       1.46035024, 1.74994559, 1.95679941, 1.33623795, 1.41897947,\n",
       "       1.58446253, 1.54309177, 0.21922731, 0.26059808, 0.21922731,\n",
       "       0.17785655, 0.26059808, 1.501721  , 2.12228246, 1.501721  ,\n",
       "       0.30196884, 1.54309177, 0.17785655, 1.29486718, 0.88115954,\n",
       "       0.17785655, 1.21212565, 1.29486718, 1.37760871, 2.0809117 ,\n",
       "       2.0809117 , 1.00527183, 0.26059808, 1.87405788, 1.08801336,\n",
       "       1.62583329, 1.501721  , 1.91542864, 1.95679941, 1.29486718,\n",
       "       1.37760871, 0.21922731, 1.29486718, 0.34333961, 1.74994559,\n",
       "       1.95679941, 0.17785655, 1.46035024, 1.74994559, 1.12938413,\n",
       "       2.41187781, 1.00527183, 0.13648579, 1.54309177, 1.33623795,\n",
       "       2.41187781, 0.26059808, 0.09511502, 0.42608113, 1.99817017,\n",
       "       2.03954094, 0.21922731, 1.95679941, 0.17785655, 0.30196884,\n",
       "       2.37050705, 0.21922731, 0.26059808, 0.13648579, 0.34333961])"
      ]
     },
     "execution_count": 29,
     "metadata": {},
     "output_type": "execute_result"
    }
   ],
   "source": [
    "# load\n",
    "with open('linear_reg_model.pkl', 'rb') as f:\n",
    "    model_loaded = pickle.load(f)\n",
    "\n",
    "model_loaded.predict(data[['x']])"
   ]
  },
  {
   "cell_type": "code",
   "execution_count": null,
   "id": "0906ba86",
   "metadata": {},
   "outputs": [],
   "source": []
  },
  {
   "cell_type": "code",
   "execution_count": null,
   "id": "a6ad84a0",
   "metadata": {},
   "outputs": [],
   "source": []
  },
  {
   "cell_type": "code",
   "execution_count": 30,
   "id": "7a4c27b4",
   "metadata": {},
   "outputs": [],
   "source": [
    "# y = m * x + c\n",
    "# y = m1 * x**n + m2* x**(n-1) + .... + c"
   ]
  },
  {
   "cell_type": "code",
   "execution_count": 31,
   "id": "59dde9a8",
   "metadata": {},
   "outputs": [],
   "source": [
    "# ada kaitan antara RMSE dengan \n",
    "# koefisien kolerasi (Pearson correlation)\n",
    "\n",
    "# x dan y\n",
    "# + 1 (terkolerasi linear)\n",
    "#   0 (tidak terkolerasi linear)\n",
    "# - 1 (terkolerasi linear terbalik)"
   ]
  },
  {
   "cell_type": "code",
   "execution_count": 32,
   "id": "59d37676",
   "metadata": {},
   "outputs": [
    {
     "data": {
      "text/html": [
       "<div>\n",
       "<style scoped>\n",
       "    .dataframe tbody tr th:only-of-type {\n",
       "        vertical-align: middle;\n",
       "    }\n",
       "\n",
       "    .dataframe tbody tr th {\n",
       "        vertical-align: top;\n",
       "    }\n",
       "\n",
       "    .dataframe thead th {\n",
       "        text-align: right;\n",
       "    }\n",
       "</style>\n",
       "<table border=\"1\" class=\"dataframe\">\n",
       "  <thead>\n",
       "    <tr style=\"text-align: right;\">\n",
       "      <th></th>\n",
       "      <th>x</th>\n",
       "      <th>y</th>\n",
       "    </tr>\n",
       "  </thead>\n",
       "  <tbody>\n",
       "    <tr>\n",
       "      <th>x</th>\n",
       "      <td>1.00000</td>\n",
       "      <td>0.96133</td>\n",
       "    </tr>\n",
       "    <tr>\n",
       "      <th>y</th>\n",
       "      <td>0.96133</td>\n",
       "      <td>1.00000</td>\n",
       "    </tr>\n",
       "  </tbody>\n",
       "</table>\n",
       "</div>"
      ],
      "text/plain": [
       "         x        y\n",
       "x  1.00000  0.96133\n",
       "y  0.96133  1.00000"
      ]
     },
     "execution_count": 32,
     "metadata": {},
     "output_type": "execute_result"
    }
   ],
   "source": [
    "data[['x', 'y']].corr()"
   ]
  },
  {
   "cell_type": "code",
   "execution_count": 33,
   "id": "88ac9075",
   "metadata": {},
   "outputs": [
    {
     "data": {
      "text/plain": [
       "['__SKLEARN_SETUP__',\n",
       " '__all__',\n",
       " '__builtins__',\n",
       " '__cached__',\n",
       " '__check_build',\n",
       " '__doc__',\n",
       " '__file__',\n",
       " '__loader__',\n",
       " '__name__',\n",
       " '__package__',\n",
       " '__path__',\n",
       " '__spec__',\n",
       " '__version__',\n",
       " '_config',\n",
       " '_distributor_init',\n",
       " '_loss',\n",
       " 'base',\n",
       " 'clone',\n",
       " 'config_context',\n",
       " 'datasets',\n",
       " 'exceptions',\n",
       " 'externals',\n",
       " 'feature_extraction',\n",
       " 'get_config',\n",
       " 'linear_model',\n",
       " 'logger',\n",
       " 'logging',\n",
       " 'metrics',\n",
       " 'model_selection',\n",
       " 'os',\n",
       " 'preprocessing',\n",
       " 'set_config',\n",
       " 'setup_module',\n",
       " 'show_versions',\n",
       " 'svm',\n",
       " 'sys',\n",
       " 'utils']"
      ]
     },
     "execution_count": 33,
     "metadata": {},
     "output_type": "execute_result"
    }
   ],
   "source": [
    "import sklearn\n",
    "\n",
    "dir(sklearn)"
   ]
  },
  {
   "cell_type": "code",
   "execution_count": 34,
   "id": "8f241644",
   "metadata": {},
   "outputs": [
    {
     "data": {
      "text/plain": [
       "['ARDRegression',\n",
       " 'BayesianRidge',\n",
       " 'ElasticNet',\n",
       " 'ElasticNetCV',\n",
       " 'GammaRegressor',\n",
       " 'Hinge',\n",
       " 'Huber',\n",
       " 'HuberRegressor',\n",
       " 'Lars',\n",
       " 'LarsCV',\n",
       " 'Lasso',\n",
       " 'LassoCV',\n",
       " 'LassoLars',\n",
       " 'LassoLarsCV',\n",
       " 'LassoLarsIC',\n",
       " 'LinearRegression',\n",
       " 'Log',\n",
       " 'LogisticRegression',\n",
       " 'LogisticRegressionCV',\n",
       " 'ModifiedHuber',\n",
       " 'MultiTaskElasticNet',\n",
       " 'MultiTaskElasticNetCV',\n",
       " 'MultiTaskLasso',\n",
       " 'MultiTaskLassoCV',\n",
       " 'OrthogonalMatchingPursuit',\n",
       " 'OrthogonalMatchingPursuitCV',\n",
       " 'PassiveAggressiveClassifier',\n",
       " 'PassiveAggressiveRegressor',\n",
       " 'Perceptron',\n",
       " 'PoissonRegressor',\n",
       " 'RANSACRegressor',\n",
       " 'Ridge',\n",
       " 'RidgeCV',\n",
       " 'RidgeClassifier',\n",
       " 'RidgeClassifierCV',\n",
       " 'SGDClassifier',\n",
       " 'SGDRegressor',\n",
       " 'SquaredLoss',\n",
       " 'TheilSenRegressor',\n",
       " 'TweedieRegressor',\n",
       " '__all__',\n",
       " '__builtins__',\n",
       " '__cached__',\n",
       " '__doc__',\n",
       " '__file__',\n",
       " '__loader__',\n",
       " '__name__',\n",
       " '__package__',\n",
       " '__path__',\n",
       " '__spec__',\n",
       " '_base',\n",
       " '_bayes',\n",
       " '_cd_fast',\n",
       " '_coordinate_descent',\n",
       " '_glm',\n",
       " '_huber',\n",
       " '_least_angle',\n",
       " '_logistic',\n",
       " '_omp',\n",
       " '_passive_aggressive',\n",
       " '_perceptron',\n",
       " '_ransac',\n",
       " '_ridge',\n",
       " '_sag',\n",
       " '_sag_fast',\n",
       " '_sgd_fast',\n",
       " '_stochastic_gradient',\n",
       " '_theil_sen',\n",
       " 'enet_path',\n",
       " 'lars_path',\n",
       " 'lars_path_gram',\n",
       " 'lasso_path',\n",
       " 'orthogonal_mp',\n",
       " 'orthogonal_mp_gram',\n",
       " 'ridge_regression']"
      ]
     },
     "execution_count": 34,
     "metadata": {},
     "output_type": "execute_result"
    }
   ],
   "source": [
    "from sklearn import linear_model\n",
    "\n",
    "dir(linear_model)"
   ]
  },
  {
   "cell_type": "code",
   "execution_count": null,
   "id": "6524cf36",
   "metadata": {},
   "outputs": [],
   "source": []
  },
  {
   "cell_type": "code",
   "execution_count": null,
   "id": "77a31406",
   "metadata": {},
   "outputs": [],
   "source": []
  }
 ],
 "metadata": {
  "kernelspec": {
   "display_name": "Python 3",
   "language": "python",
   "name": "python3"
  },
  "language_info": {
   "codemirror_mode": {
    "name": "ipython",
    "version": 3
   },
   "file_extension": ".py",
   "mimetype": "text/x-python",
   "name": "python",
   "nbconvert_exporter": "python",
   "pygments_lexer": "ipython3",
   "version": "3.6.13"
  }
 },
 "nbformat": 4,
 "nbformat_minor": 5
}
