{
 "cells": [
  {
   "cell_type": "code",
   "execution_count": 1,
   "metadata": {},
   "outputs": [
    {
     "name": "stdout",
     "output_type": "stream",
     "text": [
      "Bismillah\n"
     ]
    }
   ],
   "source": [
    "# Bentuk sederhana if, jika kondisi True di dalam if akan diexsekusi\n",
    "if True:\n",
    "    print(\"Bismillah\")"
   ]
  },
  {
   "cell_type": "code",
   "execution_count": 2,
   "metadata": {},
   "outputs": [],
   "source": [
    "if False:\n",
    "    print(\"yah\")"
   ]
  },
  {
   "cell_type": "code",
   "execution_count": 3,
   "metadata": {},
   "outputs": [
    {
     "name": "stdout",
     "output_type": "stream",
     "text": [
      "Bismillah\n"
     ]
    }
   ],
   "source": [
    "kondisi = True\n",
    "if kondisi:\n",
    "    print(\"Bismillah\")"
   ]
  },
  {
   "cell_type": "code",
   "execution_count": 4,
   "metadata": {},
   "outputs": [],
   "source": [
    "kondisi = False\n",
    "if kondisi:\n",
    "    print(\"Bismillah\")"
   ]
  },
  {
   "cell_type": "code",
   "execution_count": 8,
   "metadata": {},
   "outputs": [],
   "source": [
    "kondisi = 5 == 3\n",
    "if kondisi:\n",
    "    print(\"Bismillah\")"
   ]
  },
  {
   "cell_type": "code",
   "execution_count": 9,
   "metadata": {},
   "outputs": [
    {
     "name": "stdout",
     "output_type": "stream",
     "text": [
      "Bismillah\n"
     ]
    }
   ],
   "source": [
    "kondisi = 5 > 3\n",
    "if kondisi:\n",
    "    print(\"Bismillah\")"
   ]
  },
  {
   "cell_type": "code",
   "execution_count": 10,
   "metadata": {},
   "outputs": [
    {
     "name": "stdout",
     "output_type": "stream",
     "text": [
      "x berisi 5\n"
     ]
    }
   ],
   "source": [
    "x = 5\n",
    "if x == 3:\n",
    "    print('x berisi 3')\n",
    "elif x == 5:\n",
    "    print('x berisi 5')\n",
    "    "
   ]
  },
  {
   "cell_type": "code",
   "execution_count": 12,
   "metadata": {},
   "outputs": [
    {
     "name": "stdout",
     "output_type": "stream",
     "text": [
      "Bawa payung\n"
     ]
    }
   ],
   "source": [
    "hari_ini = 'hujan'\n",
    "if hari_ini != 'hujan':\n",
    "    print(\"Tidak perlu baw payung\")\n",
    "else:\n",
    "    print(\"Bawa payung\")"
   ]
  },
  {
   "cell_type": "code",
   "execution_count": 14,
   "metadata": {},
   "outputs": [
    {
     "name": "stdout",
     "output_type": "stream",
     "text": [
      "Tidak perlu bawa payung\n"
     ]
    }
   ],
   "source": [
    "hari_ini = 'tidak hujan'\n",
    "if hari_ini != 'hujan':\n",
    "    print(\"Tidak perlu bawa payung\")\n",
    "else:\n",
    "    print(\"Bawa payung\")"
   ]
  },
  {
   "cell_type": "code",
   "execution_count": 17,
   "metadata": {},
   "outputs": [],
   "source": [
    "# If di dalam If\n",
    "def fungsi(condition1, condition2, condition3):\n",
    "    if condition1:\n",
    "        if condition2:\n",
    "            if condition3:\n",
    "                hasil = \"condition 1, 2, dan 3\"\n",
    "            else:\n",
    "                hasil = \"condition 1, 2, dan bukan 3\"\n",
    "        else:\n",
    "            hasil = \"condition 1, bukan 2, dan bukan 3\"\n",
    "    else:\n",
    "        hasil = \"condition bukan 1, bukan 2, dan bukan3\"\n",
    "    return print(hasil)"
   ]
  },
  {
   "cell_type": "code",
   "execution_count": 18,
   "metadata": {},
   "outputs": [
    {
     "data": {
      "text/plain": [
       "'condition 1, 2, dan 3'"
      ]
     },
     "execution_count": 18,
     "metadata": {},
     "output_type": "execute_result"
    }
   ],
   "source": [
    "condition1 = True\n",
    "condition2 = True\n",
    "condition3 = True\n",
    "fungsi(condition1, condition2, condition3) "
   ]
  },
  {
   "cell_type": "code",
   "execution_count": 19,
   "metadata": {},
   "outputs": [
    {
     "data": {
      "text/plain": [
       "'condition 1, 2, dan bukan 3'"
      ]
     },
     "execution_count": 19,
     "metadata": {},
     "output_type": "execute_result"
    }
   ],
   "source": [
    "condition1 = True\n",
    "condition2 = True\n",
    "condition3 = False\n",
    "fungsi(condition1, condition2, condition3) "
   ]
  },
  {
   "cell_type": "code",
   "execution_count": 20,
   "metadata": {},
   "outputs": [
    {
     "data": {
      "text/plain": [
       "'condition 1, bukan 2, dan bukan 3'"
      ]
     },
     "execution_count": 20,
     "metadata": {},
     "output_type": "execute_result"
    }
   ],
   "source": [
    "condition1 = True\n",
    "condition2 = False\n",
    "condition3 = False\n",
    "fungsi(condition1, condition2, condition3) "
   ]
  },
  {
   "cell_type": "code",
   "execution_count": 21,
   "metadata": {},
   "outputs": [
    {
     "data": {
      "text/plain": [
       "'condition bukan 1, bukan 2, dan bukan3'"
      ]
     },
     "execution_count": 21,
     "metadata": {},
     "output_type": "execute_result"
    }
   ],
   "source": [
    "condition1 = False\n",
    "condition2 = False\n",
    "condition3 = False\n",
    "fungsi(condition1, condition2, condition3)"
   ]
  },
  {
   "cell_type": "code",
   "execution_count": null,
   "metadata": {},
   "outputs": [],
   "source": []
  }
 ],
 "metadata": {
  "kernelspec": {
   "display_name": "Python 3",
   "language": "python",
   "name": "python3"
  },
  "language_info": {
   "codemirror_mode": {
    "name": "ipython",
    "version": 3
   },
   "file_extension": ".py",
   "mimetype": "text/x-python",
   "name": "python",
   "nbconvert_exporter": "python",
   "pygments_lexer": "ipython3",
   "version": "3.6.7"
  }
 },
 "nbformat": 4,
 "nbformat_minor": 2
}
