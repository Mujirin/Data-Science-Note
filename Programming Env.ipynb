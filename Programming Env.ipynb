{
 "cells": [
  {
   "cell_type": "code",
   "execution_count": null,
   "id": "d621804c",
   "metadata": {},
   "outputs": [],
   "source": [
    "Why terminal/cmd?\n",
    "    - untuk install\n",
    "\n",
    "Why programming env?\n",
    "\n",
    "Why github?\n",
    "\n",
    "Why Kolawork?\n",
    "\n",
    "\n",
    "\n",
    "\n",
    "\n"
   ]
  },
  {
   "cell_type": "code",
   "execution_count": null,
   "id": "7d73ec87",
   "metadata": {},
   "outputs": [],
   "source": [
    "# Terminal\n",
    "## Linux/OSX    Windows\n",
    "cd nama_dir     |cd nama_dir         > masuk direktory\n",
    "cd ..           |cd ..               > keluar mundur dari dir tersebut satu kali\n",
    "cd ../..        |cd ../..            > keluar mundur dari dir tersebut dua kali\n",
    "mkdir nama_dir  |mkdir               > buat nama direktory\n",
    "ls              |dir                 > lihat isi directory\n",
    "pwd             |cd , or echo %cd%   > lihat sedang ada dimana\n",
    "rm -rf nama_dir |rmdir /s nama_dir   > hapus directory dengan isinya\n",
    "history         |\n",
    "\n",
    "# Source\n",
    "# Windows\n",
    "http://www.cs.columbia.edu/~sedwards/classes/2015/1102-fall/Command%20Prompt%20Cheatsheet.pdf\n"
   ]
  },
  {
   "cell_type": "code",
   "execution_count": null,
   "id": "5323b73f",
   "metadata": {},
   "outputs": [],
   "source": [
    "# Version controlling\n"
   ]
  },
  {
   "cell_type": "code",
   "execution_count": null,
   "id": "ecdf9cd9",
   "metadata": {},
   "outputs": [],
   "source": [
    "# Github\n",
    "\n",
    "1. Pastikan sudah memiliki akun Github \n",
    "   (https://github.com/), jika belum anda bisa \n",
    "    Googling, berikut salah satu site yang \n",
    "    memberitahu caranya \n",
    "    (https://www.wikihow.com/Create-an-Account-on-GitHub)\n",
    "\n",
    "2. Download dan install git (https://git-scm.com/downloads) or \n",
    "   (https://git-scm.com/download/win) \n",
    "      $ git --version\n",
    "\n",
    "3. Setup git dengan username dan email\n",
    "    a. Buka terminal (cmd)\n",
    "    \n",
    "       $ git config --global user.name \"Your name here\"\n",
    "       $ git config --global user.email \"your_email@example.com\"\n",
    "\n",
    "4. Set up ssh pada komputer\n",
    "    - buka terminal\n",
    "      $ ls -al ~/.ssh (lihat apakah ada ssh keys di komputer)\n",
    "      $ cd ~ (pergi ke home)\n",
    "      $ cd .ssh (folder ssh keys berada)\n",
    "      $ ls      (lihat isinya, cek jika id_rsa.pub ada di situ)\n",
    "    - Jika tidak ada generate (see on github)\n",
    "      $ ssh-keygen -t rsa -b 4096 -C \"you@example.com\"\n",
    "    - copy id_rsa.pub\n",
    "    - add to github\n",
    "    - test the SSH key on terminal\n",
    "      $ ssh -T git@github.com\n",
    "      $ ssh -T github.com-Mujirin (just for me)\n",
    "    \n",
    "      Hi Mujirin! You've successfully authenticated,....\n",
    "        \n",
    "    - create one repository on Github\n",
    "    - clone the repo\n",
    "    - go to the folder repo on computer\n",
    "      $ git remote set-url origin git@github.com:username/your-repository.git\n",
    "    - edit something\n",
    "    - push \n",
    "        \n",
    "    \n",
    "    soure:\n",
    "        https://docs.github.com/en/authentication/connecting-to-github-with-ssh/checking-for-existing-ssh-keys\n",
    "        https://www.youtube.com/watch?v=jfi9n4y-WFo\n",
    "        https://gist.github.com/xirixiz/b6b0c6f4917ce17a90e00f9b60566278\n",
    "        https://www.freecodecamp.org/news/pushing-to-github-made-simple-enough-for-poets/\n",
    "        https://github.com/git-guides/install-git\n",
    "        https://kbroman.org/github_tutorial/pages/first_time.html"
   ]
  },
  {
   "cell_type": "code",
   "execution_count": null,
   "id": "d1d0a668",
   "metadata": {},
   "outputs": [],
   "source": [
    "# Virtual environment\n",
    "\n",
    "# Virtualenv environment\n",
    "- install\n",
    "    $ pip install virtualenv\n",
    "    $ virtualenv --version\n",
    "- create a dircetory (folder)\n",
    "- creating virtual env\n",
    "    $ python3 -m venv env_name (Python 3)\n",
    "    $ virtualenv env_name      (Python 2)\n",
    "- activate\n",
    "    $ source env_name/bin/activate\n",
    "- deactivate\n",
    "    $ deactivate\n",
    "- list all package in env\n",
    "    $ pip freeze > requirements.txt\n",
    "- copy requirements.txt to somewhere and create another env\n",
    "    $ python3 -m venv another_env_name\n",
    "- activate\n",
    "    $ source another_env_name/bin/activate\n",
    "- isntall all requirement \n",
    "    $ pip install -r requirements.txt\n",
    "- check it!\n",
    "- list all virtualenv\n",
    "    - isntall\n",
    "        $ pip install virtualenvwrapper\n",
    "\n",
    "\n",
    "    "
   ]
  },
  {
   "cell_type": "code",
   "execution_count": null,
   "id": "a42ba6c7",
   "metadata": {},
   "outputs": [],
   "source": [
    "# Conda environment\n",
    "- Checking conda version\n",
    "    $ conda --version\n",
    "- checking all conda env\n",
    "    $ conda info --envs\n",
    "- creating conda environment\n",
    "    $ conda create --name your_env_name python=3.7.0 -y\n",
    "- activate\n",
    "    $ conda activate\n",
    "- deactivate\n",
    "    $ conda deactivate\n",
    "- remove\n",
    "    $ conda env remove -n your_env_name\n",
    "- list packacge in conda env\n",
    "    $ conda list\n",
    "    $ conda list -e > requirements.txt\n",
    "- recrating conda\n",
    "    $ conda create --name <env> --file <this file>"
   ]
  },
  {
   "cell_type": "code",
   "execution_count": null,
   "id": "9da91353",
   "metadata": {},
   "outputs": [],
   "source": [
    "# kolawork environment\n",
    "conda create --name recreate_env --file requirements.txt"
   ]
  },
  {
   "cell_type": "code",
   "execution_count": null,
   "id": "949a3d8e",
   "metadata": {},
   "outputs": [],
   "source": [
    "KolaWork"
   ]
  },
  {
   "cell_type": "code",
   "execution_count": 2,
   "id": "9a6d4481",
   "metadata": {},
   "outputs": [
    {
     "data": {
      "text/plain": [
       "\"['a', 'b']\""
      ]
     },
     "execution_count": 2,
     "metadata": {},
     "output_type": "execute_result"
    }
   ],
   "source": [
    "c = ['a'] + ['b']\n",
    "str(c)"
   ]
  },
  {
   "cell_type": "code",
   "execution_count": null,
   "id": "5a767247",
   "metadata": {},
   "outputs": [],
   "source": []
  },
  {
   "cell_type": "code",
   "execution_count": null,
   "id": "327a452f",
   "metadata": {},
   "outputs": [],
   "source": []
  }
 ],
 "metadata": {
  "kernelspec": {
   "display_name": "Python 3",
   "language": "python",
   "name": "python3"
  },
  "language_info": {
   "codemirror_mode": {
    "name": "ipython",
    "version": 3
   },
   "file_extension": ".py",
   "mimetype": "text/x-python",
   "name": "python",
   "nbconvert_exporter": "python",
   "pygments_lexer": "ipython3",
   "version": "3.6.13"
  }
 },
 "nbformat": 4,
 "nbformat_minor": 5
}
