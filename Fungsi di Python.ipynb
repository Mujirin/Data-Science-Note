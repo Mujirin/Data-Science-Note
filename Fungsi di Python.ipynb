{
 "cells": [
  {
   "cell_type": "markdown",
   "metadata": {},
   "source": [
    "# Pengenalan Fungsi-Fungsi dalam Python"
   ]
  },
  {
   "cell_type": "markdown",
   "metadata": {},
   "source": [
    "Sebuah fungsi diawali dengan perintah \"def\", tanpa tanda kutip\n",
    "yang diikuti dengan dengan nama fungsi tersebut\n",
    "sehingga bila akan memanggil fungsi itu maka yang dipanggil adalah nama tersebut(setelah \"def\")"
   ]
  },
  {
   "cell_type": "code",
   "execution_count": 9,
   "metadata": {},
   "outputs": [
    {
     "data": {
      "text/plain": [
       "'Ini adalah hasil keluaran dari fungsi non parameter'"
      ]
     },
     "execution_count": 9,
     "metadata": {},
     "output_type": "execute_result"
    }
   ],
   "source": [
    "# Fungsi Non parameter\n",
    "def fungsi():\n",
    "    '''\n",
    "    Tidak membutuhkan parameter apapun & keluaran hasilnya selalu sama\n",
    "    '''\n",
    "    return 'Ini adalah hasil keluaran dari fungsi non parameter'\n",
    "\n",
    "fungsi()"
   ]
  },
  {
   "cell_type": "code",
   "execution_count": 10,
   "metadata": {},
   "outputs": [
    {
     "data": {
      "text/plain": [
       "10"
      ]
     },
     "execution_count": 10,
     "metadata": {},
     "output_type": "execute_result"
    }
   ],
   "source": [
    "# Fungsi identitas\n",
    "# keluaran hasil fungsi adalah nilai dari fungsi itu sendiri\n",
    "def fungsi(x):\n",
    "    '''\n",
    "    Lakukan apapun yang ingin anda lakukan dengan x di sini\n",
    "    '''\n",
    "    return x\n",
    "\n",
    "y = fungsi(10)\n",
    "y"
   ]
  },
  {
   "cell_type": "code",
   "execution_count": 11,
   "metadata": {},
   "outputs": [
    {
     "data": {
      "text/plain": [
       "100"
      ]
     },
     "execution_count": 11,
     "metadata": {},
     "output_type": "execute_result"
    }
   ],
   "source": [
    "# Fungsi kuadrat\n",
    "def fungsi(x):\n",
    "    '''\n",
    "    Lakukan apapun yang ingin anda lakukan dengan x di sini\n",
    "    '''\n",
    "    return x**2\n",
    "\n",
    "x = 10\n",
    "y = fungsi(x)\n",
    "y"
   ]
  },
  {
   "cell_type": "code",
   "execution_count": 12,
   "metadata": {},
   "outputs": [
    {
     "data": {
      "text/plain": [
       "30"
      ]
     },
     "execution_count": 12,
     "metadata": {},
     "output_type": "execute_result"
    }
   ],
   "source": [
    "# Fungsi dua variable\n",
    "def fungsi(x, y):\n",
    "    '''\n",
    "    Lakukan apapun yang ingin anda lakukan dengan x dan y di sini\n",
    "    '''\n",
    "    return x + y\n",
    "\n",
    "z = fungsi(10, 20)\n",
    "z"
   ]
  },
  {
   "cell_type": "code",
   "execution_count": 13,
   "metadata": {},
   "outputs": [
    {
     "data": {
      "text/plain": [
       "(31, 32)"
      ]
     },
     "execution_count": 13,
     "metadata": {},
     "output_type": "execute_result"
    }
   ],
   "source": [
    "# Fungsi dua variable dan tambahanan konstanta\n",
    "def fungsi(x, y, k=1):\n",
    "    '''\n",
    "    Lakukan apapun yang ingin anda lakukan dengan x, y dan\n",
    "    k bisa di isi atau tidak pas pemanggian\n",
    "    '''\n",
    "    return x + y + k\n",
    "\n",
    "# Jika k tidak diisi, akan di set ke defaultnya yakni k = 1\n",
    "z1 = fungsi(10, 20)\n",
    "# Jika k diisi misalnya k = 2, maka k yang akan dipakai adalah k =2\n",
    "z2 = fungsi(10, 20, k=2)\n",
    "z1, z2"
   ]
  },
  {
   "cell_type": "code",
   "execution_count": 14,
   "metadata": {},
   "outputs": [
    {
     "data": {
      "text/plain": [
       "6"
      ]
     },
     "execution_count": 14,
     "metadata": {},
     "output_type": "execute_result"
    }
   ],
   "source": [
    "# Input fungsi bisa beragam tipe data, bisa dataframe, list, dan sebagainnya,\n",
    "# Outputnya juga bisa beragam, bergantung si pembuatnya\n",
    "\n",
    "# Contoh isi dengan input daftar data dan output angka\n",
    "def fungsi(daftar):\n",
    "    return sum(daftar)\n",
    "\n",
    "hasil = fungsi([1, 2, 3])\n",
    "hasil"
   ]
  },
  {
   "cell_type": "code",
   "execution_count": 15,
   "metadata": {},
   "outputs": [],
   "source": [
    "# Nama fungsi sesuka hati pembuatnya, namun jangan memakai yang sudah dipakai\n",
    "# oleh library-libray atau fungsi sebelumnya, karena akan mereplace\n",
    "# semua yang telah terdefinisi sebelumnya, hal dapat menimbulkan\n",
    "# hal-hal yang tidak terduga."
   ]
  }
 ],
 "metadata": {
  "kernelspec": {
   "display_name": "Python 3",
   "language": "python",
   "name": "python3"
  },
  "language_info": {
   "codemirror_mode": {
    "name": "ipython",
    "version": 3
   },
   "file_extension": ".py",
   "mimetype": "text/x-python",
   "name": "python",
   "nbconvert_exporter": "python",
   "pygments_lexer": "ipython3",
   "version": "3.7.6"
  }
 },
 "nbformat": 4,
 "nbformat_minor": 2
}
