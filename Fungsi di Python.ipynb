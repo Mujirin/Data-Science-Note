{
 "cells": [
  {
   "cell_type": "code",
   "execution_count": 2,
   "metadata": {},
   "outputs": [
    {
     "data": {
      "text/plain": [
       "10"
      ]
     },
     "execution_count": 2,
     "metadata": {},
     "output_type": "execute_result"
    }
   ],
   "source": [
    "# Fungsi identitas\n",
    "def fungsi(x):\n",
    "    '''\n",
    "    Lakukan apapun yang ingin anda lakukan dengan x di sini\n",
    "    '''\n",
    "    return x\n",
    "\n",
    "x = 10\n",
    "y = fungsi(x)\n",
    "y"
   ]
  },
  {
   "cell_type": "code",
   "execution_count": 3,
   "metadata": {},
   "outputs": [
    {
     "data": {
      "text/plain": [
       "100"
      ]
     },
     "execution_count": 3,
     "metadata": {},
     "output_type": "execute_result"
    }
   ],
   "source": [
    "# Fungsi kuadrat\n",
    "def fungsi(x):\n",
    "    '''\n",
    "    Lakukan apapun yang ingin anda lakukan dengan x di sini\n",
    "    '''\n",
    "    y = x**2\n",
    "    return y\n",
    "\n",
    "x = 10\n",
    "y = fungsi(x)\n",
    "y"
   ]
  },
  {
   "cell_type": "code",
   "execution_count": 4,
   "metadata": {},
   "outputs": [
    {
     "data": {
      "text/plain": [
       "30"
      ]
     },
     "execution_count": 4,
     "metadata": {},
     "output_type": "execute_result"
    }
   ],
   "source": [
    "# Fungsi dua variable\n",
    "def fungsi(x, y):\n",
    "    '''\n",
    "    Lakukan apapun yang ingin anda lakukan dengan x dan y di sini\n",
    "    '''\n",
    "    z = x + y\n",
    "    return z\n",
    "\n",
    "x = 10\n",
    "y = 20\n",
    "z = fungsi(x, y)\n",
    "z"
   ]
  },
  {
   "cell_type": "code",
   "execution_count": 7,
   "metadata": {},
   "outputs": [
    {
     "data": {
      "text/plain": [
       "(31, 32)"
      ]
     },
     "execution_count": 7,
     "metadata": {},
     "output_type": "execute_result"
    }
   ],
   "source": [
    "# Fungsi dua variable dan tambahanan konstanta\n",
    "def fungsi(x, y, k=1):\n",
    "    '''\n",
    "    Lakukan apapun yang ingin anda lakukan dengan x, y dan\n",
    "    k bisa di isi atau tidak pas pemanggian\n",
    "    '''\n",
    "    z = x + y + k\n",
    "    return z\n",
    "\n",
    "x = 10\n",
    "y = 20\n",
    "# Jika k tidak diisi, akan di set ke defaultnya yakni k = 1\n",
    "z1 = fungsi(x, y)\n",
    "# Jika k diisi misalnya k = 2, maka k yang akan dipakai adalah k =2\n",
    "z2 = fungsi(x, y, k=2)\n",
    "z1, z2"
   ]
  },
  {
   "cell_type": "code",
   "execution_count": 8,
   "metadata": {},
   "outputs": [
    {
     "data": {
      "text/plain": [
       "6"
      ]
     },
     "execution_count": 8,
     "metadata": {},
     "output_type": "execute_result"
    }
   ],
   "source": [
    "# Input fungsi bisa beragam tipe data, bisa dataframe, list, dan sebagainnya,\n",
    "# Outputnya juga bisa beragam, bergantung si pembuatnya\n",
    "\n",
    "# Contoh isi dengan input daftar data dan output angka\n",
    "def fungsi(daftar):\n",
    "    hasil = sum(daftar)\n",
    "    return hasil\n",
    "\n",
    "daftar = [1, 2, 3]\n",
    "hasil = fungsi(daftar)\n",
    "hasil\n",
    "    "
   ]
  },
  {
   "cell_type": "code",
   "execution_count": 9,
   "metadata": {},
   "outputs": [],
   "source": [
    "# Nama fungsi sesuka hati pembuatnya, namun jangan memakai yang sudah dipakai\n",
    "# oleh library-libray atau fungsi sebelumnya, karena akan mereplace\n",
    "# semua yang telah terdefinisi sebelumnya, hal dapat menimbulkan\n",
    "# hal-hal yang tidak terduga."
   ]
  },
  {
   "cell_type": "code",
   "execution_count": null,
   "metadata": {},
   "outputs": [],
   "source": []
  }
 ],
 "metadata": {
  "kernelspec": {
   "display_name": "Python 3",
   "language": "python",
   "name": "python3"
  },
  "language_info": {
   "codemirror_mode": {
    "name": "ipython",
    "version": 3
   },
   "file_extension": ".py",
   "mimetype": "text/x-python",
   "name": "python",
   "nbconvert_exporter": "python",
   "pygments_lexer": "ipython3",
   "version": "3.6.7"
  }
 },
 "nbformat": 4,
 "nbformat_minor": 2
}
